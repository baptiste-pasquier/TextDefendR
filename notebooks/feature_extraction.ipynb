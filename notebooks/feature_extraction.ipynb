{
 "cells": [
  {
   "attachments": {},
   "cell_type": "markdown",
   "metadata": {},
   "source": [
    "# Feature extraction"
   ]
  },
  {
   "cell_type": "code",
   "execution_count": 1,
   "metadata": {},
   "outputs": [],
   "source": [
    "%load_ext autoreload\n",
    "%autoreload 2"
   ]
  },
  {
   "cell_type": "code",
   "execution_count": 2,
   "metadata": {},
   "outputs": [],
   "source": [
    "import pandas as pd\n",
    "import torch\n",
    "from IPython.display import HTML, display\n",
    "from transformers import (\n",
    "    AutoModel,\n",
    "    AutoTokenizer,\n",
    "    CamembertForMaskedLM,\n",
    "    CamembertTokenizer,\n",
    "    GPT2LMHeadModel,\n",
    "    GPT2TokenizerFast,\n",
    "    RobertaForMaskedLM,\n",
    "    RobertaTokenizer,\n",
    ")\n",
    "\n",
    "from nlp_adversarial_attacks.models.model_loading import load_target_model\n",
    "from nlp_adversarial_attacks.reactdetect.feature_extraction import FeatureExtractor\n",
    "from nlp_adversarial_attacks.reactdetect.feature_extraction.extractors.utils import (\n",
    "    EXTR_FCNS_BY_NAME,\n",
    ")\n",
    "\n",
    "assert (\n",
    "    torch.cuda.is_available()\n",
    "), \"encoding features is quite expensive, defenitely use gpus\"\n",
    "CUDA_DEVICE = torch.device(\"cuda\")"
   ]
  },
  {
   "cell_type": "code",
   "execution_count": 3,
   "metadata": {},
   "outputs": [
    {
     "data": {
      "text/plain": [
       "{'lm_proba_and_rank': <function nlp_adversarial_attacks.reactdetect.feature_extraction.extractors.language_model_properties.lm_proba_and_rank(text_list, lm_masked_model, lm_masked_tokenizer, device, logger=None, quantiles=None, regions=None, feature_list=None)>,\n",
       " 'lm_perplexity': <function nlp_adversarial_attacks.reactdetect.feature_extraction.extractors.language_model_properties.lm_perplexity(text_list, lm_causal_model, lm_causal_tokenizer, device, logger=None, stride=1, regions=None, feature_list=None)>,\n",
       " 'tm_posterior': <function nlp_adversarial_attacks.reactdetect.feature_extraction.extractors.target_model_properties.tm_posterior(text_list, target_model, device, batch_size=32, logger=None, feature_list=None)>,\n",
       " 'tm_gradient': <function nlp_adversarial_attacks.reactdetect.feature_extraction.extractors.target_model_properties.tm_gradient(text_list, labels, target_model, device='cpu', logger=None, regions=None, quantiles=None, feature_list=None)>,\n",
       " 'tm_activation': <function nlp_adversarial_attacks.reactdetect.feature_extraction.extractors.target_model_properties.tm_activation(text_list, target_model, device, logger=None, regions=None, quantiles=None, feature_list=None)>,\n",
       " 'tm_saliency': <function nlp_adversarial_attacks.reactdetect.feature_extraction.extractors.target_model_properties.tm_saliency(text_list, labels, target_model, device, saliency_type='simple_gradient', logger=None, regions=None, quantiles=None, feature_list=None)>,\n",
       " 'tp_num_chars': <function nlp_adversarial_attacks.reactdetect.feature_extraction.extractors.text_properties.tp_num_chars(text_list, feature_list=None)>,\n",
       " 'tp_num_alpha_chars': <function nlp_adversarial_attacks.reactdetect.feature_extraction.extractors.text_properties.tp_num_alpha_chars(text_list, feature_list=None)>,\n",
       " 'tp_num_digits': <function nlp_adversarial_attacks.reactdetect.feature_extraction.extractors.text_properties.tp_num_digits(text_list, feature_list=None)>,\n",
       " 'tp_num_punctuation': <function nlp_adversarial_attacks.reactdetect.feature_extraction.extractors.text_properties.tp_num_punctuation(text_list, feature_list=None)>,\n",
       " 'tp_num_multi_spaces': <function nlp_adversarial_attacks.reactdetect.feature_extraction.extractors.text_properties.tp_num_multi_spaces(text_list, feature_list=None)>,\n",
       " 'tp_num_words': <function nlp_adversarial_attacks.reactdetect.feature_extraction.extractors.text_properties.tp_num_words(text_list, feature_list=None)>,\n",
       " 'tp_avg_word_length': <function nlp_adversarial_attacks.reactdetect.feature_extraction.extractors.text_properties.tp_avg_word_length(text_list, quantiles=None, regions=None, feature_list=None)>,\n",
       " 'tp_num_non_ascii': <function nlp_adversarial_attacks.reactdetect.feature_extraction.extractors.text_properties.tp_num_non_ascii(text_list, feature_list=None)>,\n",
       " 'tp_num_cased_letters': <function nlp_adversarial_attacks.reactdetect.feature_extraction.extractors.text_properties.tp_num_cased_letters(text_list, feature_list=None)>,\n",
       " 'tp_is_first_word_lowercase': <function nlp_adversarial_attacks.reactdetect.feature_extraction.extractors.text_properties.tp_is_first_word_lowercase(text_list, feature_list=None)>,\n",
       " 'tp_num_mixed_case_words': <function nlp_adversarial_attacks.reactdetect.feature_extraction.extractors.text_properties.tp_num_mixed_case_words(text_list, feature_list=None)>,\n",
       " 'tp_num_single_lowercase_letters': <function nlp_adversarial_attacks.reactdetect.feature_extraction.extractors.text_properties.tp_num_single_lowercase_letters(text_list, feature_list=None)>,\n",
       " 'tp_num_lowercase_after_punctuation': <function nlp_adversarial_attacks.reactdetect.feature_extraction.extractors.text_properties.tp_num_lowercase_after_punctuation(text_list, feature_list=None)>,\n",
       " 'tp_num_cased_word_switches': <function nlp_adversarial_attacks.reactdetect.feature_extraction.extractors.text_properties.tp_num_cased_word_switches(text_list, feature_list=None)>,\n",
       " 'tp_bert': <function nlp_adversarial_attacks.reactdetect.feature_extraction.extractors.text_properties.tp_bert(text_list, lm_bert_model, lm_bert_tokenizer, device, max_length=128, batch_size=50, feature_list=None)>}"
      ]
     },
     "execution_count": 3,
     "metadata": {},
     "output_type": "execute_result"
    }
   ],
   "source": [
    "EXTR_FCNS_BY_NAME"
   ]
  },
  {
   "attachments": {},
   "cell_type": "markdown",
   "metadata": {},
   "source": [
    "## Text properties"
   ]
  },
  {
   "cell_type": "code",
   "execution_count": 4,
   "metadata": {},
   "outputs": [],
   "source": [
    "def test_extraction_function(func_name, text_list=None, **kwargs):\n",
    "    fe = FeatureExtractor(add_specific=[func_name])\n",
    "\n",
    "    # get samples\n",
    "    if text_list is None:\n",
    "        text_list = [\"hello there how are yuo.!\", \"h3llo there  how are you.\"]\n",
    "\n",
    "    # call the feature extractor with the required arguments\n",
    "    res = fe(return_dict=True, text_list=pd.Series(text_list), **kwargs)\n",
    "\n",
    "    display(HTML(f\"<b>Function: {func_name}<b/>\"))\n",
    "    print(\"Text_list:\")\n",
    "    for text in text_list:\n",
    "        print(\"    \" + text)\n",
    "\n",
    "    features, values = res[func_name]\n",
    "\n",
    "    display(pd.DataFrame(values, columns=features).T)"
   ]
  },
  {
   "cell_type": "code",
   "execution_count": 5,
   "metadata": {},
   "outputs": [
    {
     "data": {
      "text/html": [
       "<b>Function: tp_num_chars<b/>"
      ],
      "text/plain": [
       "<IPython.core.display.HTML object>"
      ]
     },
     "metadata": {},
     "output_type": "display_data"
    },
    {
     "name": "stdout",
     "output_type": "stream",
     "text": [
      "Text_list:\n",
      "    hello there how are yuo.!\n",
      "    h3llo there  how are you.\n"
     ]
    },
    {
     "data": {
      "text/html": [
       "<div>\n",
       "<style scoped>\n",
       "    .dataframe tbody tr th:only-of-type {\n",
       "        vertical-align: middle;\n",
       "    }\n",
       "\n",
       "    .dataframe tbody tr th {\n",
       "        vertical-align: top;\n",
       "    }\n",
       "\n",
       "    .dataframe thead th {\n",
       "        text-align: right;\n",
       "    }\n",
       "</style>\n",
       "<table border=\"1\" class=\"dataframe\">\n",
       "  <thead>\n",
       "    <tr style=\"text-align: right;\">\n",
       "      <th></th>\n",
       "      <th>0</th>\n",
       "      <th>1</th>\n",
       "    </tr>\n",
       "  </thead>\n",
       "  <tbody>\n",
       "    <tr>\n",
       "      <th>num_chars</th>\n",
       "      <td>25.0</td>\n",
       "      <td>25.0</td>\n",
       "    </tr>\n",
       "  </tbody>\n",
       "</table>\n",
       "</div>"
      ],
      "text/plain": [
       "              0     1\n",
       "num_chars  25.0  25.0"
      ]
     },
     "metadata": {},
     "output_type": "display_data"
    }
   ],
   "source": [
    "test_extraction_function(\"tp_num_chars\")"
   ]
  },
  {
   "cell_type": "code",
   "execution_count": 6,
   "metadata": {},
   "outputs": [
    {
     "data": {
      "text/html": [
       "<b>Function: tp_num_alpha_chars<b/>"
      ],
      "text/plain": [
       "<IPython.core.display.HTML object>"
      ]
     },
     "metadata": {},
     "output_type": "display_data"
    },
    {
     "name": "stdout",
     "output_type": "stream",
     "text": [
      "Text_list:\n",
      "    hello there how are yuo.!\n",
      "    h3llo there  how are you.\n"
     ]
    },
    {
     "data": {
      "text/html": [
       "<div>\n",
       "<style scoped>\n",
       "    .dataframe tbody tr th:only-of-type {\n",
       "        vertical-align: middle;\n",
       "    }\n",
       "\n",
       "    .dataframe tbody tr th {\n",
       "        vertical-align: top;\n",
       "    }\n",
       "\n",
       "    .dataframe thead th {\n",
       "        text-align: right;\n",
       "    }\n",
       "</style>\n",
       "<table border=\"1\" class=\"dataframe\">\n",
       "  <thead>\n",
       "    <tr style=\"text-align: right;\">\n",
       "      <th></th>\n",
       "      <th>0</th>\n",
       "      <th>1</th>\n",
       "    </tr>\n",
       "  </thead>\n",
       "  <tbody>\n",
       "    <tr>\n",
       "      <th>num_alpha_chars</th>\n",
       "      <td>19.0</td>\n",
       "      <td>18.0</td>\n",
       "    </tr>\n",
       "  </tbody>\n",
       "</table>\n",
       "</div>"
      ],
      "text/plain": [
       "                    0     1\n",
       "num_alpha_chars  19.0  18.0"
      ]
     },
     "metadata": {},
     "output_type": "display_data"
    }
   ],
   "source": [
    "test_extraction_function(\"tp_num_alpha_chars\")"
   ]
  },
  {
   "cell_type": "code",
   "execution_count": 7,
   "metadata": {},
   "outputs": [
    {
     "data": {
      "text/html": [
       "<b>Function: tp_num_digits<b/>"
      ],
      "text/plain": [
       "<IPython.core.display.HTML object>"
      ]
     },
     "metadata": {},
     "output_type": "display_data"
    },
    {
     "name": "stdout",
     "output_type": "stream",
     "text": [
      "Text_list:\n",
      "    hello there how are yuo.!\n",
      "    h3llo there  how are you.\n"
     ]
    },
    {
     "data": {
      "text/html": [
       "<div>\n",
       "<style scoped>\n",
       "    .dataframe tbody tr th:only-of-type {\n",
       "        vertical-align: middle;\n",
       "    }\n",
       "\n",
       "    .dataframe tbody tr th {\n",
       "        vertical-align: top;\n",
       "    }\n",
       "\n",
       "    .dataframe thead th {\n",
       "        text-align: right;\n",
       "    }\n",
       "</style>\n",
       "<table border=\"1\" class=\"dataframe\">\n",
       "  <thead>\n",
       "    <tr style=\"text-align: right;\">\n",
       "      <th></th>\n",
       "      <th>0</th>\n",
       "      <th>1</th>\n",
       "    </tr>\n",
       "  </thead>\n",
       "  <tbody>\n",
       "    <tr>\n",
       "      <th>num_digits</th>\n",
       "      <td>0.0</td>\n",
       "      <td>1.0</td>\n",
       "    </tr>\n",
       "  </tbody>\n",
       "</table>\n",
       "</div>"
      ],
      "text/plain": [
       "              0    1\n",
       "num_digits  0.0  1.0"
      ]
     },
     "metadata": {},
     "output_type": "display_data"
    }
   ],
   "source": [
    "test_extraction_function(\"tp_num_digits\")"
   ]
  },
  {
   "cell_type": "code",
   "execution_count": 8,
   "metadata": {},
   "outputs": [
    {
     "data": {
      "text/html": [
       "<b>Function: tp_num_punctuation<b/>"
      ],
      "text/plain": [
       "<IPython.core.display.HTML object>"
      ]
     },
     "metadata": {},
     "output_type": "display_data"
    },
    {
     "name": "stdout",
     "output_type": "stream",
     "text": [
      "Text_list:\n",
      "    hello there how are yuo.!\n",
      "    h3llo there  how are you.\n"
     ]
    },
    {
     "data": {
      "text/html": [
       "<div>\n",
       "<style scoped>\n",
       "    .dataframe tbody tr th:only-of-type {\n",
       "        vertical-align: middle;\n",
       "    }\n",
       "\n",
       "    .dataframe tbody tr th {\n",
       "        vertical-align: top;\n",
       "    }\n",
       "\n",
       "    .dataframe thead th {\n",
       "        text-align: right;\n",
       "    }\n",
       "</style>\n",
       "<table border=\"1\" class=\"dataframe\">\n",
       "  <thead>\n",
       "    <tr style=\"text-align: right;\">\n",
       "      <th></th>\n",
       "      <th>0</th>\n",
       "      <th>1</th>\n",
       "    </tr>\n",
       "  </thead>\n",
       "  <tbody>\n",
       "    <tr>\n",
       "      <th>num_punctuation</th>\n",
       "      <td>2.0</td>\n",
       "      <td>1.0</td>\n",
       "    </tr>\n",
       "  </tbody>\n",
       "</table>\n",
       "</div>"
      ],
      "text/plain": [
       "                   0    1\n",
       "num_punctuation  2.0  1.0"
      ]
     },
     "metadata": {},
     "output_type": "display_data"
    }
   ],
   "source": [
    "test_extraction_function(\"tp_num_punctuation\")"
   ]
  },
  {
   "cell_type": "code",
   "execution_count": 9,
   "metadata": {},
   "outputs": [
    {
     "data": {
      "text/html": [
       "<b>Function: tp_num_multi_spaces<b/>"
      ],
      "text/plain": [
       "<IPython.core.display.HTML object>"
      ]
     },
     "metadata": {},
     "output_type": "display_data"
    },
    {
     "name": "stdout",
     "output_type": "stream",
     "text": [
      "Text_list:\n",
      "    hello there how are yuo.!\n",
      "    h3llo there  how are you.\n"
     ]
    },
    {
     "data": {
      "text/html": [
       "<div>\n",
       "<style scoped>\n",
       "    .dataframe tbody tr th:only-of-type {\n",
       "        vertical-align: middle;\n",
       "    }\n",
       "\n",
       "    .dataframe tbody tr th {\n",
       "        vertical-align: top;\n",
       "    }\n",
       "\n",
       "    .dataframe thead th {\n",
       "        text-align: right;\n",
       "    }\n",
       "</style>\n",
       "<table border=\"1\" class=\"dataframe\">\n",
       "  <thead>\n",
       "    <tr style=\"text-align: right;\">\n",
       "      <th></th>\n",
       "      <th>0</th>\n",
       "      <th>1</th>\n",
       "    </tr>\n",
       "  </thead>\n",
       "  <tbody>\n",
       "    <tr>\n",
       "      <th>num_multi_spaces</th>\n",
       "      <td>0.0</td>\n",
       "      <td>1.0</td>\n",
       "    </tr>\n",
       "  </tbody>\n",
       "</table>\n",
       "</div>"
      ],
      "text/plain": [
       "                    0    1\n",
       "num_multi_spaces  0.0  1.0"
      ]
     },
     "metadata": {},
     "output_type": "display_data"
    }
   ],
   "source": [
    "test_extraction_function(\"tp_num_multi_spaces\")"
   ]
  },
  {
   "cell_type": "code",
   "execution_count": 10,
   "metadata": {},
   "outputs": [
    {
     "data": {
      "text/html": [
       "<b>Function: tp_num_words<b/>"
      ],
      "text/plain": [
       "<IPython.core.display.HTML object>"
      ]
     },
     "metadata": {},
     "output_type": "display_data"
    },
    {
     "name": "stdout",
     "output_type": "stream",
     "text": [
      "Text_list:\n",
      "    hello there how are yuo.!\n",
      "    h3llo there  how are you.\n"
     ]
    },
    {
     "data": {
      "text/html": [
       "<div>\n",
       "<style scoped>\n",
       "    .dataframe tbody tr th:only-of-type {\n",
       "        vertical-align: middle;\n",
       "    }\n",
       "\n",
       "    .dataframe tbody tr th {\n",
       "        vertical-align: top;\n",
       "    }\n",
       "\n",
       "    .dataframe thead th {\n",
       "        text-align: right;\n",
       "    }\n",
       "</style>\n",
       "<table border=\"1\" class=\"dataframe\">\n",
       "  <thead>\n",
       "    <tr style=\"text-align: right;\">\n",
       "      <th></th>\n",
       "      <th>0</th>\n",
       "      <th>1</th>\n",
       "    </tr>\n",
       "  </thead>\n",
       "  <tbody>\n",
       "    <tr>\n",
       "      <th>num_words</th>\n",
       "      <td>5.0</td>\n",
       "      <td>5.0</td>\n",
       "    </tr>\n",
       "  </tbody>\n",
       "</table>\n",
       "</div>"
      ],
      "text/plain": [
       "             0    1\n",
       "num_words  5.0  5.0"
      ]
     },
     "metadata": {},
     "output_type": "display_data"
    }
   ],
   "source": [
    "test_extraction_function(\"tp_num_words\")"
   ]
  },
  {
   "cell_type": "code",
   "execution_count": 11,
   "metadata": {},
   "outputs": [
    {
     "data": {
      "text/html": [
       "<b>Function: tp_avg_word_length<b/>"
      ],
      "text/plain": [
       "<IPython.core.display.HTML object>"
      ]
     },
     "metadata": {},
     "output_type": "display_data"
    },
    {
     "name": "stdout",
     "output_type": "stream",
     "text": [
      "Text_list:\n",
      "    longlong longlong s s s s s s s s s s s s s s s s s s s s s s s\n"
     ]
    },
    {
     "data": {
      "text/html": [
       "<div>\n",
       "<style scoped>\n",
       "    .dataframe tbody tr th:only-of-type {\n",
       "        vertical-align: middle;\n",
       "    }\n",
       "\n",
       "    .dataframe tbody tr th {\n",
       "        vertical-align: top;\n",
       "    }\n",
       "\n",
       "    .dataframe thead th {\n",
       "        text-align: right;\n",
       "    }\n",
       "</style>\n",
       "<table border=\"1\" class=\"dataframe\">\n",
       "  <thead>\n",
       "    <tr style=\"text-align: right;\">\n",
       "      <th></th>\n",
       "      <th>0</th>\n",
       "    </tr>\n",
       "  </thead>\n",
       "  <tbody>\n",
       "    <tr>\n",
       "      <th>avg_word_length_mean_region0</th>\n",
       "      <td>3.0000</td>\n",
       "    </tr>\n",
       "    <tr>\n",
       "      <th>avg_word_length_var_region0</th>\n",
       "      <td>10.0000</td>\n",
       "    </tr>\n",
       "    <tr>\n",
       "      <th>avg_word_length_quant0_region0</th>\n",
       "      <td>1.0000</td>\n",
       "    </tr>\n",
       "    <tr>\n",
       "      <th>avg_word_length_quant1_region0</th>\n",
       "      <td>1.0000</td>\n",
       "    </tr>\n",
       "    <tr>\n",
       "      <th>avg_word_length_quant2_region0</th>\n",
       "      <td>4.5000</td>\n",
       "    </tr>\n",
       "    <tr>\n",
       "      <th>avg_word_length_mean_region1</th>\n",
       "      <td>1.0000</td>\n",
       "    </tr>\n",
       "    <tr>\n",
       "      <th>avg_word_length_var_region1</th>\n",
       "      <td>0.0000</td>\n",
       "    </tr>\n",
       "    <tr>\n",
       "      <th>avg_word_length_quant0_region1</th>\n",
       "      <td>1.0000</td>\n",
       "    </tr>\n",
       "    <tr>\n",
       "      <th>avg_word_length_quant1_region1</th>\n",
       "      <td>1.0000</td>\n",
       "    </tr>\n",
       "    <tr>\n",
       "      <th>avg_word_length_quant2_region1</th>\n",
       "      <td>1.0000</td>\n",
       "    </tr>\n",
       "    <tr>\n",
       "      <th>avg_word_length_mean_region2</th>\n",
       "      <td>1.0000</td>\n",
       "    </tr>\n",
       "    <tr>\n",
       "      <th>avg_word_length_var_region2</th>\n",
       "      <td>0.0000</td>\n",
       "    </tr>\n",
       "    <tr>\n",
       "      <th>avg_word_length_quant0_region2</th>\n",
       "      <td>1.0000</td>\n",
       "    </tr>\n",
       "    <tr>\n",
       "      <th>avg_word_length_quant1_region2</th>\n",
       "      <td>1.0000</td>\n",
       "    </tr>\n",
       "    <tr>\n",
       "      <th>avg_word_length_quant2_region2</th>\n",
       "      <td>1.0000</td>\n",
       "    </tr>\n",
       "    <tr>\n",
       "      <th>avg_word_length_mean_region3</th>\n",
       "      <td>1.5600</td>\n",
       "    </tr>\n",
       "    <tr>\n",
       "      <th>avg_word_length_var_region3</th>\n",
       "      <td>3.6064</td>\n",
       "    </tr>\n",
       "    <tr>\n",
       "      <th>avg_word_length_quant0_region3</th>\n",
       "      <td>1.0000</td>\n",
       "    </tr>\n",
       "    <tr>\n",
       "      <th>avg_word_length_quant1_region3</th>\n",
       "      <td>1.0000</td>\n",
       "    </tr>\n",
       "    <tr>\n",
       "      <th>avg_word_length_quant2_region3</th>\n",
       "      <td>1.0000</td>\n",
       "    </tr>\n",
       "  </tbody>\n",
       "</table>\n",
       "</div>"
      ],
      "text/plain": [
       "                                      0\n",
       "avg_word_length_mean_region0     3.0000\n",
       "avg_word_length_var_region0     10.0000\n",
       "avg_word_length_quant0_region0   1.0000\n",
       "avg_word_length_quant1_region0   1.0000\n",
       "avg_word_length_quant2_region0   4.5000\n",
       "avg_word_length_mean_region1     1.0000\n",
       "avg_word_length_var_region1      0.0000\n",
       "avg_word_length_quant0_region1   1.0000\n",
       "avg_word_length_quant1_region1   1.0000\n",
       "avg_word_length_quant2_region1   1.0000\n",
       "avg_word_length_mean_region2     1.0000\n",
       "avg_word_length_var_region2      0.0000\n",
       "avg_word_length_quant0_region2   1.0000\n",
       "avg_word_length_quant1_region2   1.0000\n",
       "avg_word_length_quant2_region2   1.0000\n",
       "avg_word_length_mean_region3     1.5600\n",
       "avg_word_length_var_region3      3.6064\n",
       "avg_word_length_quant0_region3   1.0000\n",
       "avg_word_length_quant1_region3   1.0000\n",
       "avg_word_length_quant2_region3   1.0000"
      ]
     },
     "metadata": {},
     "output_type": "display_data"
    }
   ],
   "source": [
    "text_list = [\"longlong longlong s s s s s s s s s s s s s s s s s s s s s s s\"]\n",
    "test_extraction_function(\"tp_avg_word_length\", text_list=text_list)"
   ]
  },
  {
   "cell_type": "code",
   "execution_count": 12,
   "metadata": {},
   "outputs": [
    {
     "data": {
      "text/html": [
       "<b>Function: tp_num_non_ascii<b/>"
      ],
      "text/plain": [
       "<IPython.core.display.HTML object>"
      ]
     },
     "metadata": {},
     "output_type": "display_data"
    },
    {
     "name": "stdout",
     "output_type": "stream",
     "text": [
      "Text_list:\n",
      "    hello there how are yuo.! 😍\n",
      "    h3llo there  how are you.\n"
     ]
    },
    {
     "data": {
      "text/html": [
       "<div>\n",
       "<style scoped>\n",
       "    .dataframe tbody tr th:only-of-type {\n",
       "        vertical-align: middle;\n",
       "    }\n",
       "\n",
       "    .dataframe tbody tr th {\n",
       "        vertical-align: top;\n",
       "    }\n",
       "\n",
       "    .dataframe thead th {\n",
       "        text-align: right;\n",
       "    }\n",
       "</style>\n",
       "<table border=\"1\" class=\"dataframe\">\n",
       "  <thead>\n",
       "    <tr style=\"text-align: right;\">\n",
       "      <th></th>\n",
       "      <th>0</th>\n",
       "      <th>1</th>\n",
       "    </tr>\n",
       "  </thead>\n",
       "  <tbody>\n",
       "    <tr>\n",
       "      <th>num_non_ascii</th>\n",
       "      <td>1.0</td>\n",
       "      <td>0.0</td>\n",
       "    </tr>\n",
       "  </tbody>\n",
       "</table>\n",
       "</div>"
      ],
      "text/plain": [
       "                 0    1\n",
       "num_non_ascii  1.0  0.0"
      ]
     },
     "metadata": {},
     "output_type": "display_data"
    }
   ],
   "source": [
    "text_list = [\"hello there how are yuo.! 😍\", \"h3llo there  how are you.\"]\n",
    "test_extraction_function(\"tp_num_non_ascii\", text_list=text_list)"
   ]
  },
  {
   "cell_type": "code",
   "execution_count": 13,
   "metadata": {},
   "outputs": [
    {
     "data": {
      "text/html": [
       "<b>Function: tp_num_cased_letters<b/>"
      ],
      "text/plain": [
       "<IPython.core.display.HTML object>"
      ]
     },
     "metadata": {},
     "output_type": "display_data"
    },
    {
     "name": "stdout",
     "output_type": "stream",
     "text": [
      "Text_list:\n",
      "    Hello There HOW ARE YOU.!\n",
      "    h3llo there  how are you.\n"
     ]
    },
    {
     "data": {
      "text/html": [
       "<div>\n",
       "<style scoped>\n",
       "    .dataframe tbody tr th:only-of-type {\n",
       "        vertical-align: middle;\n",
       "    }\n",
       "\n",
       "    .dataframe tbody tr th {\n",
       "        vertical-align: top;\n",
       "    }\n",
       "\n",
       "    .dataframe thead th {\n",
       "        text-align: right;\n",
       "    }\n",
       "</style>\n",
       "<table border=\"1\" class=\"dataframe\">\n",
       "  <thead>\n",
       "    <tr style=\"text-align: right;\">\n",
       "      <th></th>\n",
       "      <th>0</th>\n",
       "      <th>1</th>\n",
       "    </tr>\n",
       "  </thead>\n",
       "  <tbody>\n",
       "    <tr>\n",
       "      <th>num_uppercase_letters</th>\n",
       "      <td>11.000000</td>\n",
       "      <td>0.000000e+00</td>\n",
       "    </tr>\n",
       "    <tr>\n",
       "      <th>num_lowercase_letters</th>\n",
       "      <td>8.000000</td>\n",
       "      <td>1.800000e+01</td>\n",
       "    </tr>\n",
       "    <tr>\n",
       "      <th>fraction_uppercase_letters</th>\n",
       "      <td>0.578947</td>\n",
       "      <td>1.482701e-311</td>\n",
       "    </tr>\n",
       "    <tr>\n",
       "      <th>fraction_lowercase_letters</th>\n",
       "      <td>0.421053</td>\n",
       "      <td>1.000000e+00</td>\n",
       "    </tr>\n",
       "  </tbody>\n",
       "</table>\n",
       "</div>"
      ],
      "text/plain": [
       "                                    0              1\n",
       "num_uppercase_letters       11.000000   0.000000e+00\n",
       "num_lowercase_letters        8.000000   1.800000e+01\n",
       "fraction_uppercase_letters   0.578947  1.482701e-311\n",
       "fraction_lowercase_letters   0.421053   1.000000e+00"
      ]
     },
     "metadata": {},
     "output_type": "display_data"
    }
   ],
   "source": [
    "text_list = [\"Hello There HOW ARE YOU.!\", \"h3llo there  how are you.\"]\n",
    "test_extraction_function(\"tp_num_cased_letters\", text_list=text_list)"
   ]
  },
  {
   "cell_type": "code",
   "execution_count": 14,
   "metadata": {},
   "outputs": [
    {
     "data": {
      "text/html": [
       "<b>Function: tp_is_first_word_lowercase<b/>"
      ],
      "text/plain": [
       "<IPython.core.display.HTML object>"
      ]
     },
     "metadata": {},
     "output_type": "display_data"
    },
    {
     "name": "stdout",
     "output_type": "stream",
     "text": [
      "Text_list:\n",
      "    Hello There HOW ARE YOU.!\n",
      "    h3llo there  how are you.\n"
     ]
    },
    {
     "data": {
      "text/html": [
       "<div>\n",
       "<style scoped>\n",
       "    .dataframe tbody tr th:only-of-type {\n",
       "        vertical-align: middle;\n",
       "    }\n",
       "\n",
       "    .dataframe tbody tr th {\n",
       "        vertical-align: top;\n",
       "    }\n",
       "\n",
       "    .dataframe thead th {\n",
       "        text-align: right;\n",
       "    }\n",
       "</style>\n",
       "<table border=\"1\" class=\"dataframe\">\n",
       "  <thead>\n",
       "    <tr style=\"text-align: right;\">\n",
       "      <th></th>\n",
       "      <th>0</th>\n",
       "      <th>1</th>\n",
       "    </tr>\n",
       "  </thead>\n",
       "  <tbody>\n",
       "    <tr>\n",
       "      <th>is_first_word_lowercase</th>\n",
       "      <td>0.0</td>\n",
       "      <td>1.0</td>\n",
       "    </tr>\n",
       "  </tbody>\n",
       "</table>\n",
       "</div>"
      ],
      "text/plain": [
       "                           0    1\n",
       "is_first_word_lowercase  0.0  1.0"
      ]
     },
     "metadata": {},
     "output_type": "display_data"
    }
   ],
   "source": [
    "text_list = [\"Hello There HOW ARE YOU.!\", \"h3llo there  how are you.\"]\n",
    "test_extraction_function(\"tp_is_first_word_lowercase\", text_list=text_list)"
   ]
  },
  {
   "cell_type": "code",
   "execution_count": 15,
   "metadata": {},
   "outputs": [
    {
     "data": {
      "text/html": [
       "<b>Function: tp_num_mixed_case_words<b/>"
      ],
      "text/plain": [
       "<IPython.core.display.HTML object>"
      ]
     },
     "metadata": {},
     "output_type": "display_data"
    },
    {
     "name": "stdout",
     "output_type": "stream",
     "text": [
      "Text_list:\n",
      "    Hello ThEre how are you.!\n",
      "    h3llo there  how are you.\n"
     ]
    },
    {
     "data": {
      "text/html": [
       "<div>\n",
       "<style scoped>\n",
       "    .dataframe tbody tr th:only-of-type {\n",
       "        vertical-align: middle;\n",
       "    }\n",
       "\n",
       "    .dataframe tbody tr th {\n",
       "        vertical-align: top;\n",
       "    }\n",
       "\n",
       "    .dataframe thead th {\n",
       "        text-align: right;\n",
       "    }\n",
       "</style>\n",
       "<table border=\"1\" class=\"dataframe\">\n",
       "  <thead>\n",
       "    <tr style=\"text-align: right;\">\n",
       "      <th></th>\n",
       "      <th>0</th>\n",
       "      <th>1</th>\n",
       "    </tr>\n",
       "  </thead>\n",
       "  <tbody>\n",
       "    <tr>\n",
       "      <th>num_mixed_case_words</th>\n",
       "      <td>1.0</td>\n",
       "      <td>0.0</td>\n",
       "    </tr>\n",
       "  </tbody>\n",
       "</table>\n",
       "</div>"
      ],
      "text/plain": [
       "                        0    1\n",
       "num_mixed_case_words  1.0  0.0"
      ]
     },
     "metadata": {},
     "output_type": "display_data"
    }
   ],
   "source": [
    "text_list = [\"Hello ThEre how are you.!\", \"h3llo there  how are you.\"]\n",
    "test_extraction_function(\"tp_num_mixed_case_words\", text_list=text_list)"
   ]
  },
  {
   "cell_type": "code",
   "execution_count": 16,
   "metadata": {},
   "outputs": [
    {
     "data": {
      "text/html": [
       "<b>Function: tp_num_single_lowercase_letters<b/>"
      ],
      "text/plain": [
       "<IPython.core.display.HTML object>"
      ]
     },
     "metadata": {},
     "output_type": "display_data"
    },
    {
     "name": "stdout",
     "output_type": "stream",
     "text": [
      "Text_list:\n",
      "    hello there how are yuo.!\n",
      "    h3llo there  h ow are you.\n"
     ]
    },
    {
     "data": {
      "text/html": [
       "<div>\n",
       "<style scoped>\n",
       "    .dataframe tbody tr th:only-of-type {\n",
       "        vertical-align: middle;\n",
       "    }\n",
       "\n",
       "    .dataframe tbody tr th {\n",
       "        vertical-align: top;\n",
       "    }\n",
       "\n",
       "    .dataframe thead th {\n",
       "        text-align: right;\n",
       "    }\n",
       "</style>\n",
       "<table border=\"1\" class=\"dataframe\">\n",
       "  <thead>\n",
       "    <tr style=\"text-align: right;\">\n",
       "      <th></th>\n",
       "      <th>0</th>\n",
       "      <th>1</th>\n",
       "    </tr>\n",
       "  </thead>\n",
       "  <tbody>\n",
       "    <tr>\n",
       "      <th>num_single_lowercase_letters</th>\n",
       "      <td>0.0</td>\n",
       "      <td>1.0</td>\n",
       "    </tr>\n",
       "  </tbody>\n",
       "</table>\n",
       "</div>"
      ],
      "text/plain": [
       "                                0    1\n",
       "num_single_lowercase_letters  0.0  1.0"
      ]
     },
     "metadata": {},
     "output_type": "display_data"
    }
   ],
   "source": [
    "text_list = [\"hello there how are yuo.!\", \"h3llo there  h ow are you.\"]\n",
    "test_extraction_function(\"tp_num_single_lowercase_letters\", text_list=text_list)"
   ]
  },
  {
   "cell_type": "code",
   "execution_count": 17,
   "metadata": {},
   "outputs": [
    {
     "data": {
      "text/html": [
       "<b>Function: tp_num_lowercase_after_punctuation<b/>"
      ],
      "text/plain": [
       "<IPython.core.display.HTML object>"
      ]
     },
     "metadata": {},
     "output_type": "display_data"
    },
    {
     "name": "stdout",
     "output_type": "stream",
     "text": [
      "Text_list:\n",
      "    hello there how are yuo.!\n",
      "    h3llo there . h ow are you.\n"
     ]
    },
    {
     "data": {
      "text/html": [
       "<div>\n",
       "<style scoped>\n",
       "    .dataframe tbody tr th:only-of-type {\n",
       "        vertical-align: middle;\n",
       "    }\n",
       "\n",
       "    .dataframe tbody tr th {\n",
       "        vertical-align: top;\n",
       "    }\n",
       "\n",
       "    .dataframe thead th {\n",
       "        text-align: right;\n",
       "    }\n",
       "</style>\n",
       "<table border=\"1\" class=\"dataframe\">\n",
       "  <thead>\n",
       "    <tr style=\"text-align: right;\">\n",
       "      <th></th>\n",
       "      <th>0</th>\n",
       "      <th>1</th>\n",
       "    </tr>\n",
       "  </thead>\n",
       "  <tbody>\n",
       "    <tr>\n",
       "      <th>num_lowercase_letters_after_punctuation</th>\n",
       "      <td>0.0</td>\n",
       "      <td>1.0</td>\n",
       "    </tr>\n",
       "  </tbody>\n",
       "</table>\n",
       "</div>"
      ],
      "text/plain": [
       "                                           0    1\n",
       "num_lowercase_letters_after_punctuation  0.0  1.0"
      ]
     },
     "metadata": {},
     "output_type": "display_data"
    }
   ],
   "source": [
    "text_list = [\"hello there how are yuo.!\", \"h3llo there . h ow are you.\"]\n",
    "test_extraction_function(\"tp_num_lowercase_after_punctuation\", text_list=text_list)"
   ]
  },
  {
   "cell_type": "code",
   "execution_count": 18,
   "metadata": {},
   "outputs": [
    {
     "data": {
      "text/html": [
       "<b>Function: tp_num_cased_word_switches<b/>"
      ],
      "text/plain": [
       "<IPython.core.display.HTML object>"
      ]
     },
     "metadata": {},
     "output_type": "display_data"
    },
    {
     "name": "stdout",
     "output_type": "stream",
     "text": [
      "Text_list:\n",
      "    Hello There HOW ARE you.!\n",
      "    h3llo there  how are you.\n"
     ]
    },
    {
     "data": {
      "text/html": [
       "<div>\n",
       "<style scoped>\n",
       "    .dataframe tbody tr th:only-of-type {\n",
       "        vertical-align: middle;\n",
       "    }\n",
       "\n",
       "    .dataframe tbody tr th {\n",
       "        vertical-align: top;\n",
       "    }\n",
       "\n",
       "    .dataframe thead th {\n",
       "        text-align: right;\n",
       "    }\n",
       "</style>\n",
       "<table border=\"1\" class=\"dataframe\">\n",
       "  <thead>\n",
       "    <tr style=\"text-align: right;\">\n",
       "      <th></th>\n",
       "      <th>0</th>\n",
       "      <th>1</th>\n",
       "    </tr>\n",
       "  </thead>\n",
       "  <tbody>\n",
       "    <tr>\n",
       "      <th>num_cased_word_switches</th>\n",
       "      <td>1.0</td>\n",
       "      <td>0.0</td>\n",
       "    </tr>\n",
       "  </tbody>\n",
       "</table>\n",
       "</div>"
      ],
      "text/plain": [
       "                           0    1\n",
       "num_cased_word_switches  1.0  0.0"
      ]
     },
     "metadata": {},
     "output_type": "display_data"
    }
   ],
   "source": [
    "text_list = [\"Hello There HOW ARE you.!\", \"h3llo there  how are you.\"]\n",
    "test_extraction_function(\"tp_num_cased_word_switches\", text_list=text_list)"
   ]
  },
  {
   "cell_type": "code",
   "execution_count": 19,
   "metadata": {},
   "outputs": [
    {
     "name": "stdout",
     "output_type": "stream",
     "text": [
      "--- loading lm\n",
      "AutoModel: sentence-transformers/bert-base-nli-mean-tokens\n",
      "--- lm loaded\n"
     ]
    },
    {
     "data": {
      "text/html": [
       "<b>Function: tp_bert<b/>"
      ],
      "text/plain": [
       "<IPython.core.display.HTML object>"
      ]
     },
     "metadata": {},
     "output_type": "display_data"
    },
    {
     "name": "stdout",
     "output_type": "stream",
     "text": [
      "Text_list:\n",
      "    hello there how are yuo.!\n",
      "    h3llo there  how are you.\n"
     ]
    },
    {
     "data": {
      "text/html": [
       "<div>\n",
       "<style scoped>\n",
       "    .dataframe tbody tr th:only-of-type {\n",
       "        vertical-align: middle;\n",
       "    }\n",
       "\n",
       "    .dataframe tbody tr th {\n",
       "        vertical-align: top;\n",
       "    }\n",
       "\n",
       "    .dataframe thead th {\n",
       "        text-align: right;\n",
       "    }\n",
       "</style>\n",
       "<table border=\"1\" class=\"dataframe\">\n",
       "  <thead>\n",
       "    <tr style=\"text-align: right;\">\n",
       "      <th></th>\n",
       "      <th>0</th>\n",
       "      <th>1</th>\n",
       "    </tr>\n",
       "  </thead>\n",
       "  <tbody>\n",
       "    <tr>\n",
       "      <th>lm_bert_0</th>\n",
       "      <td>-0.313352</td>\n",
       "      <td>0.003020</td>\n",
       "    </tr>\n",
       "    <tr>\n",
       "      <th>lm_bert_1</th>\n",
       "      <td>-0.003227</td>\n",
       "      <td>0.192503</td>\n",
       "    </tr>\n",
       "    <tr>\n",
       "      <th>lm_bert_2</th>\n",
       "      <td>1.734016</td>\n",
       "      <td>1.710032</td>\n",
       "    </tr>\n",
       "    <tr>\n",
       "      <th>lm_bert_3</th>\n",
       "      <td>0.224571</td>\n",
       "      <td>0.254954</td>\n",
       "    </tr>\n",
       "    <tr>\n",
       "      <th>lm_bert_4</th>\n",
       "      <td>0.587513</td>\n",
       "      <td>0.701409</td>\n",
       "    </tr>\n",
       "    <tr>\n",
       "      <th>...</th>\n",
       "      <td>...</td>\n",
       "      <td>...</td>\n",
       "    </tr>\n",
       "    <tr>\n",
       "      <th>lm_bert_763</th>\n",
       "      <td>-0.540840</td>\n",
       "      <td>-0.058098</td>\n",
       "    </tr>\n",
       "    <tr>\n",
       "      <th>lm_bert_764</th>\n",
       "      <td>-0.109474</td>\n",
       "      <td>-0.603243</td>\n",
       "    </tr>\n",
       "    <tr>\n",
       "      <th>lm_bert_765</th>\n",
       "      <td>0.014358</td>\n",
       "      <td>-0.186244</td>\n",
       "    </tr>\n",
       "    <tr>\n",
       "      <th>lm_bert_766</th>\n",
       "      <td>0.035541</td>\n",
       "      <td>0.226444</td>\n",
       "    </tr>\n",
       "    <tr>\n",
       "      <th>lm_bert_767</th>\n",
       "      <td>-0.091777</td>\n",
       "      <td>0.231286</td>\n",
       "    </tr>\n",
       "  </tbody>\n",
       "</table>\n",
       "<p>768 rows × 2 columns</p>\n",
       "</div>"
      ],
      "text/plain": [
       "                    0         1\n",
       "lm_bert_0   -0.313352  0.003020\n",
       "lm_bert_1   -0.003227  0.192503\n",
       "lm_bert_2    1.734016  1.710032\n",
       "lm_bert_3    0.224571  0.254954\n",
       "lm_bert_4    0.587513  0.701409\n",
       "...               ...       ...\n",
       "lm_bert_763 -0.540840 -0.058098\n",
       "lm_bert_764 -0.109474 -0.603243\n",
       "lm_bert_765  0.014358 -0.186244\n",
       "lm_bert_766  0.035541  0.226444\n",
       "lm_bert_767 -0.091777  0.231286\n",
       "\n",
       "[768 rows x 2 columns]"
      ]
     },
     "metadata": {},
     "output_type": "display_data"
    }
   ],
   "source": [
    "bert_model_name = \"sentence-transformers/bert-base-nli-mean-tokens\"\n",
    "print(\"--- loading lm\")\n",
    "print(f\"AutoModel: {bert_model_name}\")\n",
    "lm_bert_model = AutoModel.from_pretrained(bert_model_name).to(CUDA_DEVICE)\n",
    "lm_bert_tokenizer = AutoTokenizer.from_pretrained(bert_model_name)\n",
    "print(\"--- lm loaded\")\n",
    "\n",
    "test_extraction_function(\n",
    "    \"tp_bert\",\n",
    "    lm_bert_model=lm_bert_model,\n",
    "    lm_bert_tokenizer=lm_bert_tokenizer,\n",
    "    device=CUDA_DEVICE,\n",
    ")"
   ]
  },
  {
   "attachments": {},
   "cell_type": "markdown",
   "metadata": {},
   "source": [
    "## LM perplexity"
   ]
  },
  {
   "cell_type": "code",
   "execution_count": 20,
   "metadata": {},
   "outputs": [
    {
     "name": "stdout",
     "output_type": "stream",
     "text": [
      "--- loading lm\n",
      "GPT2LMHeadModel: gpt2\n",
      "--- lm loaded\n"
     ]
    },
    {
     "data": {
      "text/html": [
       "<b>Function: lm_perplexity<b/>"
      ],
      "text/plain": [
       "<IPython.core.display.HTML object>"
      ]
     },
     "metadata": {},
     "output_type": "display_data"
    },
    {
     "name": "stdout",
     "output_type": "stream",
     "text": [
      "Text_list:\n",
      "    Wikipedia is a multilingual free online encyclopedia written and maintained by a community of volunteers\n",
      "    Wik_prd9a is a mult8lingual fr5e o@line encyclapedia written and maintained by a community of volunteers\n",
      "    Wikipédia est une encyclopédie en ligne gratuite multilingue écrite et maintenue par une communauté de bénévoles\n",
      "    Wik_prd9a est t encyc7opédie en l@gne gratuite multilingue écrite et maintenue par une communauté de bénévoles\n"
     ]
    },
    {
     "data": {
      "text/html": [
       "<div>\n",
       "<style scoped>\n",
       "    .dataframe tbody tr th:only-of-type {\n",
       "        vertical-align: middle;\n",
       "    }\n",
       "\n",
       "    .dataframe tbody tr th {\n",
       "        vertical-align: top;\n",
       "    }\n",
       "\n",
       "    .dataframe thead th {\n",
       "        text-align: right;\n",
       "    }\n",
       "</style>\n",
       "<table border=\"1\" class=\"dataframe\">\n",
       "  <thead>\n",
       "    <tr style=\"text-align: right;\">\n",
       "      <th></th>\n",
       "      <th>0</th>\n",
       "      <th>1</th>\n",
       "      <th>2</th>\n",
       "      <th>3</th>\n",
       "    </tr>\n",
       "  </thead>\n",
       "  <tbody>\n",
       "    <tr>\n",
       "      <th>lm_perplexity_region0</th>\n",
       "      <td>24.814098</td>\n",
       "      <td>364.295197</td>\n",
       "      <td>134.643021</td>\n",
       "      <td>1074.929688</td>\n",
       "    </tr>\n",
       "    <tr>\n",
       "      <th>lm_perplexity_region1</th>\n",
       "      <td>189.984787</td>\n",
       "      <td>1508.723022</td>\n",
       "      <td>365.955444</td>\n",
       "      <td>842.555237</td>\n",
       "    </tr>\n",
       "    <tr>\n",
       "      <th>lm_perplexity_region2</th>\n",
       "      <td>288.875427</td>\n",
       "      <td>288.875427</td>\n",
       "      <td>207.246140</td>\n",
       "      <td>207.246140</td>\n",
       "    </tr>\n",
       "    <tr>\n",
       "      <th>lm_perplexity_region3</th>\n",
       "      <td>23.640610</td>\n",
       "      <td>700.263000</td>\n",
       "      <td>114.287552</td>\n",
       "      <td>359.786011</td>\n",
       "    </tr>\n",
       "  </tbody>\n",
       "</table>\n",
       "</div>"
      ],
      "text/plain": [
       "                                0            1           2            3\n",
       "lm_perplexity_region0   24.814098   364.295197  134.643021  1074.929688\n",
       "lm_perplexity_region1  189.984787  1508.723022  365.955444   842.555237\n",
       "lm_perplexity_region2  288.875427   288.875427  207.246140   207.246140\n",
       "lm_perplexity_region3   23.640610   700.263000  114.287552   359.786011"
      ]
     },
     "metadata": {},
     "output_type": "display_data"
    },
    {
     "name": "stdout",
     "output_type": "stream",
     "text": [
      "--- loading lm\n",
      "GPT2LMHeadModel: ClassCat/gpt2-base-french\n",
      "--- lm loaded\n"
     ]
    },
    {
     "data": {
      "text/html": [
       "<b>Function: lm_perplexity<b/>"
      ],
      "text/plain": [
       "<IPython.core.display.HTML object>"
      ]
     },
     "metadata": {},
     "output_type": "display_data"
    },
    {
     "name": "stdout",
     "output_type": "stream",
     "text": [
      "Text_list:\n",
      "    Wikipedia is a multilingual free online encyclopedia written and maintained by a community of volunteers\n",
      "    Wik_prd9a is a mult8lingual fr5e o@line encyclapedia written and maintained by a community of volunteers\n",
      "    Wikipédia est une encyclopédie en ligne gratuite multilingue écrite et maintenue par une communauté de bénévoles\n",
      "    Wik_prd9a est t encyc7opédie en l@gne gratuite multilingue écrite et maintenue par une communauté de bénévoles\n"
     ]
    },
    {
     "data": {
      "text/html": [
       "<div>\n",
       "<style scoped>\n",
       "    .dataframe tbody tr th:only-of-type {\n",
       "        vertical-align: middle;\n",
       "    }\n",
       "\n",
       "    .dataframe tbody tr th {\n",
       "        vertical-align: top;\n",
       "    }\n",
       "\n",
       "    .dataframe thead th {\n",
       "        text-align: right;\n",
       "    }\n",
       "</style>\n",
       "<table border=\"1\" class=\"dataframe\">\n",
       "  <thead>\n",
       "    <tr style=\"text-align: right;\">\n",
       "      <th></th>\n",
       "      <th>0</th>\n",
       "      <th>1</th>\n",
       "      <th>2</th>\n",
       "      <th>3</th>\n",
       "    </tr>\n",
       "  </thead>\n",
       "  <tbody>\n",
       "    <tr>\n",
       "      <th>lm_perplexity_region0</th>\n",
       "      <td>140.834991</td>\n",
       "      <td>1179.500610</td>\n",
       "      <td>3.584707</td>\n",
       "      <td>4336.395996</td>\n",
       "    </tr>\n",
       "    <tr>\n",
       "      <th>lm_perplexity_region1</th>\n",
       "      <td>189.957336</td>\n",
       "      <td>2996.277588</td>\n",
       "      <td>677.830383</td>\n",
       "      <td>3966.690918</td>\n",
       "    </tr>\n",
       "    <tr>\n",
       "      <th>lm_perplexity_region2</th>\n",
       "      <td>412.359070</td>\n",
       "      <td>412.359070</td>\n",
       "      <td>81.623306</td>\n",
       "      <td>81.623306</td>\n",
       "    </tr>\n",
       "    <tr>\n",
       "      <th>lm_perplexity_region3</th>\n",
       "      <td>92.158951</td>\n",
       "      <td>594.701538</td>\n",
       "      <td>13.120065</td>\n",
       "      <td>1265.757446</td>\n",
       "    </tr>\n",
       "  </tbody>\n",
       "</table>\n",
       "</div>"
      ],
      "text/plain": [
       "                                0            1           2            3\n",
       "lm_perplexity_region0  140.834991  1179.500610    3.584707  4336.395996\n",
       "lm_perplexity_region1  189.957336  2996.277588  677.830383  3966.690918\n",
       "lm_perplexity_region2  412.359070   412.359070   81.623306    81.623306\n",
       "lm_perplexity_region3   92.158951   594.701538   13.120065  1265.757446"
      ]
     },
     "metadata": {},
     "output_type": "display_data"
    },
    {
     "name": "stdout",
     "output_type": "stream",
     "text": [
      "--- loading lm\n",
      "GPT2LMHeadModel: benjamin/gpt2-wechsel-french\n",
      "--- lm loaded\n"
     ]
    },
    {
     "data": {
      "text/html": [
       "<b>Function: lm_perplexity<b/>"
      ],
      "text/plain": [
       "<IPython.core.display.HTML object>"
      ]
     },
     "metadata": {},
     "output_type": "display_data"
    },
    {
     "name": "stdout",
     "output_type": "stream",
     "text": [
      "Text_list:\n",
      "    Wikipedia is a multilingual free online encyclopedia written and maintained by a community of volunteers\n",
      "    Wik_prd9a is a mult8lingual fr5e o@line encyclapedia written and maintained by a community of volunteers\n",
      "    Wikipédia est une encyclopédie en ligne gratuite multilingue écrite et maintenue par une communauté de bénévoles\n",
      "    Wik_prd9a est t encyc7opédie en l@gne gratuite multilingue écrite et maintenue par une communauté de bénévoles\n"
     ]
    },
    {
     "data": {
      "text/html": [
       "<div>\n",
       "<style scoped>\n",
       "    .dataframe tbody tr th:only-of-type {\n",
       "        vertical-align: middle;\n",
       "    }\n",
       "\n",
       "    .dataframe tbody tr th {\n",
       "        vertical-align: top;\n",
       "    }\n",
       "\n",
       "    .dataframe thead th {\n",
       "        text-align: right;\n",
       "    }\n",
       "</style>\n",
       "<table border=\"1\" class=\"dataframe\">\n",
       "  <thead>\n",
       "    <tr style=\"text-align: right;\">\n",
       "      <th></th>\n",
       "      <th>0</th>\n",
       "      <th>1</th>\n",
       "      <th>2</th>\n",
       "      <th>3</th>\n",
       "    </tr>\n",
       "  </thead>\n",
       "  <tbody>\n",
       "    <tr>\n",
       "      <th>lm_perplexity_region0</th>\n",
       "      <td>158.683807</td>\n",
       "      <td>1116.182495</td>\n",
       "      <td>27.395039</td>\n",
       "      <td>3533.361084</td>\n",
       "    </tr>\n",
       "    <tr>\n",
       "      <th>lm_perplexity_region1</th>\n",
       "      <td>36.547207</td>\n",
       "      <td>798.260559</td>\n",
       "      <td>992.720642</td>\n",
       "      <td>2237.489014</td>\n",
       "    </tr>\n",
       "    <tr>\n",
       "      <th>lm_perplexity_region2</th>\n",
       "      <td>436.916443</td>\n",
       "      <td>436.916443</td>\n",
       "      <td>112.160156</td>\n",
       "      <td>112.160156</td>\n",
       "    </tr>\n",
       "    <tr>\n",
       "      <th>lm_perplexity_region3</th>\n",
       "      <td>27.845720</td>\n",
       "      <td>327.007568</td>\n",
       "      <td>18.267420</td>\n",
       "      <td>1001.386292</td>\n",
       "    </tr>\n",
       "  </tbody>\n",
       "</table>\n",
       "</div>"
      ],
      "text/plain": [
       "                                0            1           2            3\n",
       "lm_perplexity_region0  158.683807  1116.182495   27.395039  3533.361084\n",
       "lm_perplexity_region1   36.547207   798.260559  992.720642  2237.489014\n",
       "lm_perplexity_region2  436.916443   436.916443  112.160156   112.160156\n",
       "lm_perplexity_region3   27.845720   327.007568   18.267420  1001.386292"
      ]
     },
     "metadata": {},
     "output_type": "display_data"
    }
   ],
   "source": [
    "for lm_causal_model_gpt_name in [\n",
    "    \"gpt2\",\n",
    "    \"ClassCat/gpt2-base-french\",\n",
    "    \"benjamin/gpt2-wechsel-french\",\n",
    "]:\n",
    "    print(\"--- loading lm\")\n",
    "    print(f\"GPT2LMHeadModel: {lm_causal_model_gpt_name}\")\n",
    "    lm_causal_model_gpt = GPT2LMHeadModel.from_pretrained(lm_causal_model_gpt_name).to(\n",
    "        CUDA_DEVICE\n",
    "    )\n",
    "    lm_causal_tokenizer_gpt = GPT2TokenizerFast.from_pretrained(\n",
    "        lm_causal_model_gpt_name\n",
    "    )\n",
    "    print(\"--- lm loaded\")\n",
    "\n",
    "    text_list = [\n",
    "        \"Wikipedia is a multilingual free online encyclopedia written and maintained by a community of volunteers\",\n",
    "        \"Wik_prd9a is a mult8lingual fr5e o@line encyclapedia written and maintained by a community of volunteers\",\n",
    "        \"Wikipédia est une encyclopédie en ligne gratuite multilingue écrite et maintenue par une communauté de bénévoles\",\n",
    "        \"Wik_prd9a est t encyc7opédie en l@gne gratuite multilingue écrite et maintenue par une communauté de bénévoles\",\n",
    "    ]\n",
    "    test_extraction_function(\n",
    "        \"lm_perplexity\",\n",
    "        text_list=text_list,\n",
    "        lm_causal_model=lm_causal_model_gpt,\n",
    "        lm_causal_tokenizer=lm_causal_tokenizer_gpt,\n",
    "        device=CUDA_DEVICE,\n",
    "    )"
   ]
  },
  {
   "attachments": {},
   "cell_type": "markdown",
   "metadata": {},
   "source": [
    "## LM proba"
   ]
  },
  {
   "cell_type": "code",
   "execution_count": 21,
   "metadata": {},
   "outputs": [
    {
     "name": "stdout",
     "output_type": "stream",
     "text": [
      "--- loading lm\n",
      "RobertaForMaskedLM: roberta-base\n",
      "--- lm loaded\n"
     ]
    },
    {
     "data": {
      "text/html": [
       "<b>Function: lm_proba_and_rank<b/>"
      ],
      "text/plain": [
       "<IPython.core.display.HTML object>"
      ]
     },
     "metadata": {},
     "output_type": "display_data"
    },
    {
     "name": "stdout",
     "output_type": "stream",
     "text": [
      "Text_list:\n",
      "    Wikipedia is a multilingual free online encyclopedia written and maintained by a community of volunteers\n",
      "    Wik_prd9a is a mult8lingual fr5e o@line encyclapedia written and maintained by a community of volunteers\n",
      "    Wikipédia est une encyclopédie en ligne gratuite multilingue écrite et maintenue par une communauté de bénévoles\n",
      "    Wik_prd9a est t encyc7opédie en l@gne gratuite multilingue écrite et maintenue par une communauté de bénévoles\n"
     ]
    },
    {
     "data": {
      "text/html": [
       "<div>\n",
       "<style scoped>\n",
       "    .dataframe tbody tr th:only-of-type {\n",
       "        vertical-align: middle;\n",
       "    }\n",
       "\n",
       "    .dataframe tbody tr th {\n",
       "        vertical-align: top;\n",
       "    }\n",
       "\n",
       "    .dataframe thead th {\n",
       "        text-align: right;\n",
       "    }\n",
       "</style>\n",
       "<table border=\"1\" class=\"dataframe\">\n",
       "  <thead>\n",
       "    <tr style=\"text-align: right;\">\n",
       "      <th></th>\n",
       "      <th>0</th>\n",
       "      <th>1</th>\n",
       "      <th>2</th>\n",
       "      <th>3</th>\n",
       "    </tr>\n",
       "  </thead>\n",
       "  <tbody>\n",
       "    <tr>\n",
       "      <th>lm_proba_mean_region0</th>\n",
       "      <td>9.934778e-01</td>\n",
       "      <td>0.906722</td>\n",
       "      <td>0.998453</td>\n",
       "      <td>0.794494</td>\n",
       "    </tr>\n",
       "    <tr>\n",
       "      <th>lm_proba_var_region0</th>\n",
       "      <td>4.213700e-05</td>\n",
       "      <td>0.074340</td>\n",
       "      <td>0.000016</td>\n",
       "      <td>0.114626</td>\n",
       "    </tr>\n",
       "    <tr>\n",
       "      <th>lm_proba_quant0_region0</th>\n",
       "      <td>9.880946e-01</td>\n",
       "      <td>0.997665</td>\n",
       "      <td>0.999705</td>\n",
       "      <td>0.628281</td>\n",
       "    </tr>\n",
       "    <tr>\n",
       "      <th>lm_proba_quant1_region0</th>\n",
       "      <td>9.959056e-01</td>\n",
       "      <td>0.998837</td>\n",
       "      <td>0.999957</td>\n",
       "      <td>0.996032</td>\n",
       "    </tr>\n",
       "    <tr>\n",
       "      <th>lm_proba_quant2_region0</th>\n",
       "      <td>9.996643e-01</td>\n",
       "      <td>0.999396</td>\n",
       "      <td>0.999975</td>\n",
       "      <td>0.999344</td>\n",
       "    </tr>\n",
       "    <tr>\n",
       "      <th>lm_rank_mean_region0</th>\n",
       "      <td>1.000000e+00</td>\n",
       "      <td>1.000000</td>\n",
       "      <td>1.000000</td>\n",
       "      <td>1.411765</td>\n",
       "    </tr>\n",
       "    <tr>\n",
       "      <th>lm_rank_var_region0</th>\n",
       "      <td>0.000000e+00</td>\n",
       "      <td>0.000000</td>\n",
       "      <td>0.000000</td>\n",
       "      <td>2.006920</td>\n",
       "    </tr>\n",
       "    <tr>\n",
       "      <th>lm_rank_quant0_region0</th>\n",
       "      <td>1.000000e+00</td>\n",
       "      <td>1.000000</td>\n",
       "      <td>1.000000</td>\n",
       "      <td>1.000000</td>\n",
       "    </tr>\n",
       "    <tr>\n",
       "      <th>lm_rank_quant1_region0</th>\n",
       "      <td>1.000000e+00</td>\n",
       "      <td>1.000000</td>\n",
       "      <td>1.000000</td>\n",
       "      <td>1.000000</td>\n",
       "    </tr>\n",
       "    <tr>\n",
       "      <th>lm_rank_quant2_region0</th>\n",
       "      <td>1.000000e+00</td>\n",
       "      <td>1.000000</td>\n",
       "      <td>1.000000</td>\n",
       "      <td>1.000000</td>\n",
       "    </tr>\n",
       "    <tr>\n",
       "      <th>lm_proba_mean_region1</th>\n",
       "      <td>9.996312e-01</td>\n",
       "      <td>0.940325</td>\n",
       "      <td>0.951264</td>\n",
       "      <td>0.908143</td>\n",
       "    </tr>\n",
       "    <tr>\n",
       "      <th>lm_proba_var_region1</th>\n",
       "      <td>5.044192e-07</td>\n",
       "      <td>0.020527</td>\n",
       "      <td>0.037663</td>\n",
       "      <td>0.075711</td>\n",
       "    </tr>\n",
       "    <tr>\n",
       "      <th>lm_proba_quant0_region1</th>\n",
       "      <td>9.997481e-01</td>\n",
       "      <td>0.972654</td>\n",
       "      <td>0.998546</td>\n",
       "      <td>0.997002</td>\n",
       "    </tr>\n",
       "    <tr>\n",
       "      <th>lm_proba_quant1_region1</th>\n",
       "      <td>9.999018e-01</td>\n",
       "      <td>0.995309</td>\n",
       "      <td>0.999525</td>\n",
       "      <td>0.999496</td>\n",
       "    </tr>\n",
       "    <tr>\n",
       "      <th>lm_proba_quant2_region1</th>\n",
       "      <td>9.999771e-01</td>\n",
       "      <td>0.999601</td>\n",
       "      <td>0.999938</td>\n",
       "      <td>0.999924</td>\n",
       "    </tr>\n",
       "    <tr>\n",
       "      <th>lm_rank_mean_region1</th>\n",
       "      <td>1.000000e+00</td>\n",
       "      <td>1.050000</td>\n",
       "      <td>1.052632</td>\n",
       "      <td>18.857143</td>\n",
       "    </tr>\n",
       "    <tr>\n",
       "      <th>lm_rank_var_region1</th>\n",
       "      <td>0.000000e+00</td>\n",
       "      <td>0.047500</td>\n",
       "      <td>0.049861</td>\n",
       "      <td>6341.931973</td>\n",
       "    </tr>\n",
       "    <tr>\n",
       "      <th>lm_rank_quant0_region1</th>\n",
       "      <td>1.000000e+00</td>\n",
       "      <td>1.000000</td>\n",
       "      <td>1.000000</td>\n",
       "      <td>1.000000</td>\n",
       "    </tr>\n",
       "    <tr>\n",
       "      <th>lm_rank_quant1_region1</th>\n",
       "      <td>1.000000e+00</td>\n",
       "      <td>1.000000</td>\n",
       "      <td>1.000000</td>\n",
       "      <td>1.000000</td>\n",
       "    </tr>\n",
       "    <tr>\n",
       "      <th>lm_rank_quant2_region1</th>\n",
       "      <td>1.000000e+00</td>\n",
       "      <td>1.000000</td>\n",
       "      <td>1.000000</td>\n",
       "      <td>1.000000</td>\n",
       "    </tr>\n",
       "    <tr>\n",
       "      <th>lm_proba_mean_region2</th>\n",
       "      <td>9.991441e-01</td>\n",
       "      <td>0.999144</td>\n",
       "      <td>0.992164</td>\n",
       "      <td>0.992164</td>\n",
       "    </tr>\n",
       "    <tr>\n",
       "      <th>lm_proba_var_region2</th>\n",
       "      <td>3.073303e-06</td>\n",
       "      <td>0.000003</td>\n",
       "      <td>0.000592</td>\n",
       "      <td>0.000592</td>\n",
       "    </tr>\n",
       "    <tr>\n",
       "      <th>lm_proba_quant0_region2</th>\n",
       "      <td>9.998152e-01</td>\n",
       "      <td>0.999815</td>\n",
       "      <td>0.999171</td>\n",
       "      <td>0.999171</td>\n",
       "    </tr>\n",
       "    <tr>\n",
       "      <th>lm_proba_quant1_region2</th>\n",
       "      <td>9.999186e-01</td>\n",
       "      <td>0.999919</td>\n",
       "      <td>0.999948</td>\n",
       "      <td>0.999948</td>\n",
       "    </tr>\n",
       "    <tr>\n",
       "      <th>lm_proba_quant2_region2</th>\n",
       "      <td>9.999946e-01</td>\n",
       "      <td>0.999995</td>\n",
       "      <td>0.999997</td>\n",
       "      <td>0.999997</td>\n",
       "    </tr>\n",
       "    <tr>\n",
       "      <th>lm_rank_mean_region2</th>\n",
       "      <td>1.000000e+00</td>\n",
       "      <td>1.000000</td>\n",
       "      <td>1.000000</td>\n",
       "      <td>1.000000</td>\n",
       "    </tr>\n",
       "    <tr>\n",
       "      <th>lm_rank_var_region2</th>\n",
       "      <td>0.000000e+00</td>\n",
       "      <td>0.000000</td>\n",
       "      <td>0.000000</td>\n",
       "      <td>0.000000</td>\n",
       "    </tr>\n",
       "    <tr>\n",
       "      <th>lm_rank_quant0_region2</th>\n",
       "      <td>1.000000e+00</td>\n",
       "      <td>1.000000</td>\n",
       "      <td>1.000000</td>\n",
       "      <td>1.000000</td>\n",
       "    </tr>\n",
       "    <tr>\n",
       "      <th>lm_rank_quant1_region2</th>\n",
       "      <td>1.000000e+00</td>\n",
       "      <td>1.000000</td>\n",
       "      <td>1.000000</td>\n",
       "      <td>1.000000</td>\n",
       "    </tr>\n",
       "    <tr>\n",
       "      <th>lm_rank_quant2_region2</th>\n",
       "      <td>1.000000e+00</td>\n",
       "      <td>1.000000</td>\n",
       "      <td>1.000000</td>\n",
       "      <td>1.000000</td>\n",
       "    </tr>\n",
       "    <tr>\n",
       "      <th>lm_proba_mean_region3</th>\n",
       "      <td>9.997170e-01</td>\n",
       "      <td>0.929379</td>\n",
       "      <td>0.970522</td>\n",
       "      <td>0.873587</td>\n",
       "    </tr>\n",
       "    <tr>\n",
       "      <th>lm_proba_var_region3</th>\n",
       "      <td>7.220066e-07</td>\n",
       "      <td>0.046716</td>\n",
       "      <td>0.016088</td>\n",
       "      <td>0.095467</td>\n",
       "    </tr>\n",
       "    <tr>\n",
       "      <th>lm_proba_quant0_region3</th>\n",
       "      <td>9.999144e-01</td>\n",
       "      <td>0.993175</td>\n",
       "      <td>0.999221</td>\n",
       "      <td>0.989125</td>\n",
       "    </tr>\n",
       "    <tr>\n",
       "      <th>lm_proba_quant1_region3</th>\n",
       "      <td>9.999831e-01</td>\n",
       "      <td>0.998632</td>\n",
       "      <td>0.999897</td>\n",
       "      <td>0.999581</td>\n",
       "    </tr>\n",
       "    <tr>\n",
       "      <th>lm_proba_quant2_region3</th>\n",
       "      <td>9.999959e-01</td>\n",
       "      <td>0.999964</td>\n",
       "      <td>0.999970</td>\n",
       "      <td>0.999924</td>\n",
       "    </tr>\n",
       "    <tr>\n",
       "      <th>lm_rank_mean_region3</th>\n",
       "      <td>1.000000e+00</td>\n",
       "      <td>1.687500</td>\n",
       "      <td>1.025000</td>\n",
       "      <td>17.217391</td>\n",
       "    </tr>\n",
       "    <tr>\n",
       "      <th>lm_rank_var_region3</th>\n",
       "      <td>0.000000e+00</td>\n",
       "      <td>14.652344</td>\n",
       "      <td>0.024375</td>\n",
       "      <td>7707.822306</td>\n",
       "    </tr>\n",
       "    <tr>\n",
       "      <th>lm_rank_quant0_region3</th>\n",
       "      <td>1.000000e+00</td>\n",
       "      <td>1.000000</td>\n",
       "      <td>1.000000</td>\n",
       "      <td>1.000000</td>\n",
       "    </tr>\n",
       "    <tr>\n",
       "      <th>lm_rank_quant1_region3</th>\n",
       "      <td>1.000000e+00</td>\n",
       "      <td>1.000000</td>\n",
       "      <td>1.000000</td>\n",
       "      <td>1.000000</td>\n",
       "    </tr>\n",
       "    <tr>\n",
       "      <th>lm_rank_quant2_region3</th>\n",
       "      <td>1.000000e+00</td>\n",
       "      <td>1.000000</td>\n",
       "      <td>1.000000</td>\n",
       "      <td>1.000000</td>\n",
       "    </tr>\n",
       "  </tbody>\n",
       "</table>\n",
       "</div>"
      ],
      "text/plain": [
       "                                    0          1         2            3\n",
       "lm_proba_mean_region0    9.934778e-01   0.906722  0.998453     0.794494\n",
       "lm_proba_var_region0     4.213700e-05   0.074340  0.000016     0.114626\n",
       "lm_proba_quant0_region0  9.880946e-01   0.997665  0.999705     0.628281\n",
       "lm_proba_quant1_region0  9.959056e-01   0.998837  0.999957     0.996032\n",
       "lm_proba_quant2_region0  9.996643e-01   0.999396  0.999975     0.999344\n",
       "lm_rank_mean_region0     1.000000e+00   1.000000  1.000000     1.411765\n",
       "lm_rank_var_region0      0.000000e+00   0.000000  0.000000     2.006920\n",
       "lm_rank_quant0_region0   1.000000e+00   1.000000  1.000000     1.000000\n",
       "lm_rank_quant1_region0   1.000000e+00   1.000000  1.000000     1.000000\n",
       "lm_rank_quant2_region0   1.000000e+00   1.000000  1.000000     1.000000\n",
       "lm_proba_mean_region1    9.996312e-01   0.940325  0.951264     0.908143\n",
       "lm_proba_var_region1     5.044192e-07   0.020527  0.037663     0.075711\n",
       "lm_proba_quant0_region1  9.997481e-01   0.972654  0.998546     0.997002\n",
       "lm_proba_quant1_region1  9.999018e-01   0.995309  0.999525     0.999496\n",
       "lm_proba_quant2_region1  9.999771e-01   0.999601  0.999938     0.999924\n",
       "lm_rank_mean_region1     1.000000e+00   1.050000  1.052632    18.857143\n",
       "lm_rank_var_region1      0.000000e+00   0.047500  0.049861  6341.931973\n",
       "lm_rank_quant0_region1   1.000000e+00   1.000000  1.000000     1.000000\n",
       "lm_rank_quant1_region1   1.000000e+00   1.000000  1.000000     1.000000\n",
       "lm_rank_quant2_region1   1.000000e+00   1.000000  1.000000     1.000000\n",
       "lm_proba_mean_region2    9.991441e-01   0.999144  0.992164     0.992164\n",
       "lm_proba_var_region2     3.073303e-06   0.000003  0.000592     0.000592\n",
       "lm_proba_quant0_region2  9.998152e-01   0.999815  0.999171     0.999171\n",
       "lm_proba_quant1_region2  9.999186e-01   0.999919  0.999948     0.999948\n",
       "lm_proba_quant2_region2  9.999946e-01   0.999995  0.999997     0.999997\n",
       "lm_rank_mean_region2     1.000000e+00   1.000000  1.000000     1.000000\n",
       "lm_rank_var_region2      0.000000e+00   0.000000  0.000000     0.000000\n",
       "lm_rank_quant0_region2   1.000000e+00   1.000000  1.000000     1.000000\n",
       "lm_rank_quant1_region2   1.000000e+00   1.000000  1.000000     1.000000\n",
       "lm_rank_quant2_region2   1.000000e+00   1.000000  1.000000     1.000000\n",
       "lm_proba_mean_region3    9.997170e-01   0.929379  0.970522     0.873587\n",
       "lm_proba_var_region3     7.220066e-07   0.046716  0.016088     0.095467\n",
       "lm_proba_quant0_region3  9.999144e-01   0.993175  0.999221     0.989125\n",
       "lm_proba_quant1_region3  9.999831e-01   0.998632  0.999897     0.999581\n",
       "lm_proba_quant2_region3  9.999959e-01   0.999964  0.999970     0.999924\n",
       "lm_rank_mean_region3     1.000000e+00   1.687500  1.025000    17.217391\n",
       "lm_rank_var_region3      0.000000e+00  14.652344  0.024375  7707.822306\n",
       "lm_rank_quant0_region3   1.000000e+00   1.000000  1.000000     1.000000\n",
       "lm_rank_quant1_region3   1.000000e+00   1.000000  1.000000     1.000000\n",
       "lm_rank_quant2_region3   1.000000e+00   1.000000  1.000000     1.000000"
      ]
     },
     "metadata": {},
     "output_type": "display_data"
    }
   ],
   "source": [
    "lm_masked_model_roberta_name = \"roberta-base\"\n",
    "print(\"--- loading lm\")\n",
    "print(f\"RobertaForMaskedLM: {lm_masked_model_roberta_name}\")\n",
    "lm_masked_model_roberta = RobertaForMaskedLM.from_pretrained(\n",
    "    lm_masked_model_roberta_name, return_dict=True\n",
    ").to(CUDA_DEVICE)\n",
    "lm_masked_tokenizer_roberta = RobertaTokenizer.from_pretrained(\n",
    "    lm_masked_model_roberta_name\n",
    ")\n",
    "print(\"--- lm loaded\")\n",
    "\n",
    "text_list = [\n",
    "    \"Wikipedia is a multilingual free online encyclopedia written and maintained by a community of volunteers\",\n",
    "    \"Wik_prd9a is a mult8lingual fr5e o@line encyclapedia written and maintained by a community of volunteers\",\n",
    "    \"Wikipédia est une encyclopédie en ligne gratuite multilingue écrite et maintenue par une communauté de bénévoles\",\n",
    "    \"Wik_prd9a est t encyc7opédie en l@gne gratuite multilingue écrite et maintenue par une communauté de bénévoles\",\n",
    "]\n",
    "test_extraction_function(\n",
    "    \"lm_proba_and_rank\",\n",
    "    text_list=text_list,\n",
    "    lm_masked_model=lm_masked_model_roberta,\n",
    "    lm_masked_tokenizer=lm_masked_tokenizer_roberta,\n",
    "    device=CUDA_DEVICE,\n",
    ")"
   ]
  },
  {
   "cell_type": "code",
   "execution_count": 22,
   "metadata": {},
   "outputs": [
    {
     "name": "stdout",
     "output_type": "stream",
     "text": [
      "--- loading lm\n",
      "CamembertForMaskedLM: camembert-base\n",
      "--- lm loaded\n"
     ]
    },
    {
     "data": {
      "text/html": [
       "<b>Function: lm_proba_and_rank<b/>"
      ],
      "text/plain": [
       "<IPython.core.display.HTML object>"
      ]
     },
     "metadata": {},
     "output_type": "display_data"
    },
    {
     "name": "stdout",
     "output_type": "stream",
     "text": [
      "Text_list:\n",
      "    Wikipedia is a multilingual free online encyclopedia written and maintained by a community of volunteers\n",
      "    Wik_prd9a is a mult8lingual fr5e o@line encyclapedia written and maintained by a community of volunteers\n",
      "    Wikipédia est une encyclopédie en ligne gratuite multilingue écrite et maintenue par une communauté de bénévoles\n",
      "    Wik_prd9a est t encyc7opédie en l@gne gratuite multilingue écrite et maintenue par une communauté de bénévoles\n"
     ]
    },
    {
     "data": {
      "text/html": [
       "<div>\n",
       "<style scoped>\n",
       "    .dataframe tbody tr th:only-of-type {\n",
       "        vertical-align: middle;\n",
       "    }\n",
       "\n",
       "    .dataframe tbody tr th {\n",
       "        vertical-align: top;\n",
       "    }\n",
       "\n",
       "    .dataframe thead th {\n",
       "        text-align: right;\n",
       "    }\n",
       "</style>\n",
       "<table border=\"1\" class=\"dataframe\">\n",
       "  <thead>\n",
       "    <tr style=\"text-align: right;\">\n",
       "      <th></th>\n",
       "      <th>0</th>\n",
       "      <th>1</th>\n",
       "      <th>2</th>\n",
       "      <th>3</th>\n",
       "    </tr>\n",
       "  </thead>\n",
       "  <tbody>\n",
       "    <tr>\n",
       "      <th>lm_proba_mean_region0</th>\n",
       "      <td>5.989743e-01</td>\n",
       "      <td>8.179866e-01</td>\n",
       "      <td>7.141277e-01</td>\n",
       "      <td>7.481702e-01</td>\n",
       "    </tr>\n",
       "    <tr>\n",
       "      <th>lm_proba_var_region0</th>\n",
       "      <td>2.391819e-01</td>\n",
       "      <td>1.486895e-01</td>\n",
       "      <td>2.039915e-01</td>\n",
       "      <td>1.740475e-01</td>\n",
       "    </tr>\n",
       "    <tr>\n",
       "      <th>lm_proba_quant0_region0</th>\n",
       "      <td>3.878813e-10</td>\n",
       "      <td>9.990610e-01</td>\n",
       "      <td>4.994609e-01</td>\n",
       "      <td>8.079267e-01</td>\n",
       "    </tr>\n",
       "    <tr>\n",
       "      <th>lm_proba_quant1_region0</th>\n",
       "      <td>9.959031e-01</td>\n",
       "      <td>9.999179e-01</td>\n",
       "      <td>9.999765e-01</td>\n",
       "      <td>9.942020e-01</td>\n",
       "    </tr>\n",
       "    <tr>\n",
       "      <th>lm_proba_quant2_region0</th>\n",
       "      <td>9.991779e-01</td>\n",
       "      <td>9.999875e-01</td>\n",
       "      <td>9.999982e-01</td>\n",
       "      <td>9.997178e-01</td>\n",
       "    </tr>\n",
       "    <tr>\n",
       "      <th>lm_rank_mean_region0</th>\n",
       "      <td>7.028200e+03</td>\n",
       "      <td>3.040273e+03</td>\n",
       "      <td>5.305714e+03</td>\n",
       "      <td>2.403588e+03</td>\n",
       "    </tr>\n",
       "    <tr>\n",
       "      <th>lm_rank_var_region0</th>\n",
       "      <td>1.000000e+07</td>\n",
       "      <td>1.000000e+07</td>\n",
       "      <td>1.000000e+07</td>\n",
       "      <td>1.000000e+07</td>\n",
       "    </tr>\n",
       "    <tr>\n",
       "      <th>lm_rank_quant0_region0</th>\n",
       "      <td>1.000000e+00</td>\n",
       "      <td>1.000000e+00</td>\n",
       "      <td>1.000000e+00</td>\n",
       "      <td>1.000000e+00</td>\n",
       "    </tr>\n",
       "    <tr>\n",
       "      <th>lm_rank_quant1_region0</th>\n",
       "      <td>1.000000e+00</td>\n",
       "      <td>1.000000e+00</td>\n",
       "      <td>1.000000e+00</td>\n",
       "      <td>1.000000e+00</td>\n",
       "    </tr>\n",
       "    <tr>\n",
       "      <th>lm_rank_quant2_region0</th>\n",
       "      <td>1.365900e+04</td>\n",
       "      <td>1.000000e+00</td>\n",
       "      <td>7.415000e+03</td>\n",
       "      <td>1.000000e+00</td>\n",
       "    </tr>\n",
       "    <tr>\n",
       "      <th>lm_proba_mean_region1</th>\n",
       "      <td>8.909670e-01</td>\n",
       "      <td>9.033728e-01</td>\n",
       "      <td>8.166317e-01</td>\n",
       "      <td>8.153189e-01</td>\n",
       "    </tr>\n",
       "    <tr>\n",
       "      <th>lm_proba_var_region1</th>\n",
       "      <td>9.344802e-02</td>\n",
       "      <td>7.161913e-02</td>\n",
       "      <td>1.482064e-01</td>\n",
       "      <td>1.230301e-01</td>\n",
       "    </tr>\n",
       "    <tr>\n",
       "      <th>lm_proba_quant0_region1</th>\n",
       "      <td>9.929694e-01</td>\n",
       "      <td>9.935096e-01</td>\n",
       "      <td>9.931104e-01</td>\n",
       "      <td>8.802737e-01</td>\n",
       "    </tr>\n",
       "    <tr>\n",
       "      <th>lm_proba_quant1_region1</th>\n",
       "      <td>9.989274e-01</td>\n",
       "      <td>9.991817e-01</td>\n",
       "      <td>9.991671e-01</td>\n",
       "      <td>9.794409e-01</td>\n",
       "    </tr>\n",
       "    <tr>\n",
       "      <th>lm_proba_quant2_region1</th>\n",
       "      <td>9.999620e-01</td>\n",
       "      <td>9.999436e-01</td>\n",
       "      <td>9.999427e-01</td>\n",
       "      <td>9.988822e-01</td>\n",
       "    </tr>\n",
       "    <tr>\n",
       "      <th>lm_rank_mean_region1</th>\n",
       "      <td>2.255842e+03</td>\n",
       "      <td>1.686385e+03</td>\n",
       "      <td>3.607818e+03</td>\n",
       "      <td>3.164308e+03</td>\n",
       "    </tr>\n",
       "    <tr>\n",
       "      <th>lm_rank_var_region1</th>\n",
       "      <td>1.000000e+07</td>\n",
       "      <td>1.000000e+07</td>\n",
       "      <td>1.000000e+07</td>\n",
       "      <td>1.000000e+07</td>\n",
       "    </tr>\n",
       "    <tr>\n",
       "      <th>lm_rank_quant0_region1</th>\n",
       "      <td>1.000000e+00</td>\n",
       "      <td>1.000000e+00</td>\n",
       "      <td>1.000000e+00</td>\n",
       "      <td>1.000000e+00</td>\n",
       "    </tr>\n",
       "    <tr>\n",
       "      <th>lm_rank_quant1_region1</th>\n",
       "      <td>1.000000e+00</td>\n",
       "      <td>1.000000e+00</td>\n",
       "      <td>1.000000e+00</td>\n",
       "      <td>1.000000e+00</td>\n",
       "    </tr>\n",
       "    <tr>\n",
       "      <th>lm_rank_quant2_region1</th>\n",
       "      <td>1.000000e+00</td>\n",
       "      <td>1.000000e+00</td>\n",
       "      <td>1.000000e+00</td>\n",
       "      <td>1.000000e+00</td>\n",
       "    </tr>\n",
       "    <tr>\n",
       "      <th>lm_proba_mean_region2</th>\n",
       "      <td>7.977232e-01</td>\n",
       "      <td>7.977232e-01</td>\n",
       "      <td>6.648828e-01</td>\n",
       "      <td>6.648828e-01</td>\n",
       "    </tr>\n",
       "    <tr>\n",
       "      <th>lm_proba_var_region2</th>\n",
       "      <td>1.591248e-01</td>\n",
       "      <td>1.591248e-01</td>\n",
       "      <td>2.210399e-01</td>\n",
       "      <td>2.210399e-01</td>\n",
       "    </tr>\n",
       "    <tr>\n",
       "      <th>lm_proba_quant0_region2</th>\n",
       "      <td>9.846637e-01</td>\n",
       "      <td>9.846637e-01</td>\n",
       "      <td>2.483118e-01</td>\n",
       "      <td>2.483118e-01</td>\n",
       "    </tr>\n",
       "    <tr>\n",
       "      <th>lm_proba_quant1_region2</th>\n",
       "      <td>9.992812e-01</td>\n",
       "      <td>9.992812e-01</td>\n",
       "      <td>9.946652e-01</td>\n",
       "      <td>9.946652e-01</td>\n",
       "    </tr>\n",
       "    <tr>\n",
       "      <th>lm_proba_quant2_region2</th>\n",
       "      <td>9.999445e-01</td>\n",
       "      <td>9.999445e-01</td>\n",
       "      <td>9.990067e-01</td>\n",
       "      <td>9.990067e-01</td>\n",
       "    </tr>\n",
       "    <tr>\n",
       "      <th>lm_rank_mean_region2</th>\n",
       "      <td>3.835700e+03</td>\n",
       "      <td>3.835700e+03</td>\n",
       "      <td>7.503000e+03</td>\n",
       "      <td>7.503000e+03</td>\n",
       "    </tr>\n",
       "    <tr>\n",
       "      <th>lm_rank_var_region2</th>\n",
       "      <td>1.000000e+07</td>\n",
       "      <td>1.000000e+07</td>\n",
       "      <td>1.000000e+07</td>\n",
       "      <td>1.000000e+07</td>\n",
       "    </tr>\n",
       "    <tr>\n",
       "      <th>lm_rank_quant0_region2</th>\n",
       "      <td>1.000000e+00</td>\n",
       "      <td>1.000000e+00</td>\n",
       "      <td>1.000000e+00</td>\n",
       "      <td>1.000000e+00</td>\n",
       "    </tr>\n",
       "    <tr>\n",
       "      <th>lm_rank_quant1_region2</th>\n",
       "      <td>1.000000e+00</td>\n",
       "      <td>1.000000e+00</td>\n",
       "      <td>1.000000e+00</td>\n",
       "      <td>1.000000e+00</td>\n",
       "    </tr>\n",
       "    <tr>\n",
       "      <th>lm_rank_quant2_region2</th>\n",
       "      <td>1.000000e+00</td>\n",
       "      <td>1.000000e+00</td>\n",
       "      <td>1.382650e+04</td>\n",
       "      <td>1.382650e+04</td>\n",
       "    </tr>\n",
       "    <tr>\n",
       "      <th>lm_proba_mean_region3</th>\n",
       "      <td>9.313074e-01</td>\n",
       "      <td>9.475968e-01</td>\n",
       "      <td>8.994954e-01</td>\n",
       "      <td>9.116137e-01</td>\n",
       "    </tr>\n",
       "    <tr>\n",
       "      <th>lm_proba_var_region3</th>\n",
       "      <td>6.199533e-02</td>\n",
       "      <td>4.445799e-02</td>\n",
       "      <td>8.990044e-02</td>\n",
       "      <td>6.893618e-02</td>\n",
       "    </tr>\n",
       "    <tr>\n",
       "      <th>lm_proba_quant0_region3</th>\n",
       "      <td>9.992695e-01</td>\n",
       "      <td>9.983029e-01</td>\n",
       "      <td>9.992103e-01</td>\n",
       "      <td>9.958808e-01</td>\n",
       "    </tr>\n",
       "    <tr>\n",
       "      <th>lm_proba_quant1_region3</th>\n",
       "      <td>9.998088e-01</td>\n",
       "      <td>9.997897e-01</td>\n",
       "      <td>9.999841e-01</td>\n",
       "      <td>9.995817e-01</td>\n",
       "    </tr>\n",
       "    <tr>\n",
       "      <th>lm_proba_quant2_region3</th>\n",
       "      <td>9.999770e-01</td>\n",
       "      <td>9.999688e-01</td>\n",
       "      <td>9.999983e-01</td>\n",
       "      <td>9.999796e-01</td>\n",
       "    </tr>\n",
       "    <tr>\n",
       "      <th>lm_rank_mean_region3</th>\n",
       "      <td>1.365333e+03</td>\n",
       "      <td>8.937442e+02</td>\n",
       "      <td>1.950100e+03</td>\n",
       "      <td>1.189594e+03</td>\n",
       "    </tr>\n",
       "    <tr>\n",
       "      <th>lm_rank_var_region3</th>\n",
       "      <td>1.000000e+07</td>\n",
       "      <td>1.000000e+07</td>\n",
       "      <td>1.000000e+07</td>\n",
       "      <td>1.000000e+07</td>\n",
       "    </tr>\n",
       "    <tr>\n",
       "      <th>lm_rank_quant0_region3</th>\n",
       "      <td>1.000000e+00</td>\n",
       "      <td>1.000000e+00</td>\n",
       "      <td>1.000000e+00</td>\n",
       "      <td>1.000000e+00</td>\n",
       "    </tr>\n",
       "    <tr>\n",
       "      <th>lm_rank_quant1_region3</th>\n",
       "      <td>1.000000e+00</td>\n",
       "      <td>1.000000e+00</td>\n",
       "      <td>1.000000e+00</td>\n",
       "      <td>1.000000e+00</td>\n",
       "    </tr>\n",
       "    <tr>\n",
       "      <th>lm_rank_quant2_region3</th>\n",
       "      <td>1.000000e+00</td>\n",
       "      <td>1.000000e+00</td>\n",
       "      <td>1.000000e+00</td>\n",
       "      <td>1.000000e+00</td>\n",
       "    </tr>\n",
       "  </tbody>\n",
       "</table>\n",
       "</div>"
      ],
      "text/plain": [
       "                                    0             1             2  \\\n",
       "lm_proba_mean_region0    5.989743e-01  8.179866e-01  7.141277e-01   \n",
       "lm_proba_var_region0     2.391819e-01  1.486895e-01  2.039915e-01   \n",
       "lm_proba_quant0_region0  3.878813e-10  9.990610e-01  4.994609e-01   \n",
       "lm_proba_quant1_region0  9.959031e-01  9.999179e-01  9.999765e-01   \n",
       "lm_proba_quant2_region0  9.991779e-01  9.999875e-01  9.999982e-01   \n",
       "lm_rank_mean_region0     7.028200e+03  3.040273e+03  5.305714e+03   \n",
       "lm_rank_var_region0      1.000000e+07  1.000000e+07  1.000000e+07   \n",
       "lm_rank_quant0_region0   1.000000e+00  1.000000e+00  1.000000e+00   \n",
       "lm_rank_quant1_region0   1.000000e+00  1.000000e+00  1.000000e+00   \n",
       "lm_rank_quant2_region0   1.365900e+04  1.000000e+00  7.415000e+03   \n",
       "lm_proba_mean_region1    8.909670e-01  9.033728e-01  8.166317e-01   \n",
       "lm_proba_var_region1     9.344802e-02  7.161913e-02  1.482064e-01   \n",
       "lm_proba_quant0_region1  9.929694e-01  9.935096e-01  9.931104e-01   \n",
       "lm_proba_quant1_region1  9.989274e-01  9.991817e-01  9.991671e-01   \n",
       "lm_proba_quant2_region1  9.999620e-01  9.999436e-01  9.999427e-01   \n",
       "lm_rank_mean_region1     2.255842e+03  1.686385e+03  3.607818e+03   \n",
       "lm_rank_var_region1      1.000000e+07  1.000000e+07  1.000000e+07   \n",
       "lm_rank_quant0_region1   1.000000e+00  1.000000e+00  1.000000e+00   \n",
       "lm_rank_quant1_region1   1.000000e+00  1.000000e+00  1.000000e+00   \n",
       "lm_rank_quant2_region1   1.000000e+00  1.000000e+00  1.000000e+00   \n",
       "lm_proba_mean_region2    7.977232e-01  7.977232e-01  6.648828e-01   \n",
       "lm_proba_var_region2     1.591248e-01  1.591248e-01  2.210399e-01   \n",
       "lm_proba_quant0_region2  9.846637e-01  9.846637e-01  2.483118e-01   \n",
       "lm_proba_quant1_region2  9.992812e-01  9.992812e-01  9.946652e-01   \n",
       "lm_proba_quant2_region2  9.999445e-01  9.999445e-01  9.990067e-01   \n",
       "lm_rank_mean_region2     3.835700e+03  3.835700e+03  7.503000e+03   \n",
       "lm_rank_var_region2      1.000000e+07  1.000000e+07  1.000000e+07   \n",
       "lm_rank_quant0_region2   1.000000e+00  1.000000e+00  1.000000e+00   \n",
       "lm_rank_quant1_region2   1.000000e+00  1.000000e+00  1.000000e+00   \n",
       "lm_rank_quant2_region2   1.000000e+00  1.000000e+00  1.382650e+04   \n",
       "lm_proba_mean_region3    9.313074e-01  9.475968e-01  8.994954e-01   \n",
       "lm_proba_var_region3     6.199533e-02  4.445799e-02  8.990044e-02   \n",
       "lm_proba_quant0_region3  9.992695e-01  9.983029e-01  9.992103e-01   \n",
       "lm_proba_quant1_region3  9.998088e-01  9.997897e-01  9.999841e-01   \n",
       "lm_proba_quant2_region3  9.999770e-01  9.999688e-01  9.999983e-01   \n",
       "lm_rank_mean_region3     1.365333e+03  8.937442e+02  1.950100e+03   \n",
       "lm_rank_var_region3      1.000000e+07  1.000000e+07  1.000000e+07   \n",
       "lm_rank_quant0_region3   1.000000e+00  1.000000e+00  1.000000e+00   \n",
       "lm_rank_quant1_region3   1.000000e+00  1.000000e+00  1.000000e+00   \n",
       "lm_rank_quant2_region3   1.000000e+00  1.000000e+00  1.000000e+00   \n",
       "\n",
       "                                    3  \n",
       "lm_proba_mean_region0    7.481702e-01  \n",
       "lm_proba_var_region0     1.740475e-01  \n",
       "lm_proba_quant0_region0  8.079267e-01  \n",
       "lm_proba_quant1_region0  9.942020e-01  \n",
       "lm_proba_quant2_region0  9.997178e-01  \n",
       "lm_rank_mean_region0     2.403588e+03  \n",
       "lm_rank_var_region0      1.000000e+07  \n",
       "lm_rank_quant0_region0   1.000000e+00  \n",
       "lm_rank_quant1_region0   1.000000e+00  \n",
       "lm_rank_quant2_region0   1.000000e+00  \n",
       "lm_proba_mean_region1    8.153189e-01  \n",
       "lm_proba_var_region1     1.230301e-01  \n",
       "lm_proba_quant0_region1  8.802737e-01  \n",
       "lm_proba_quant1_region1  9.794409e-01  \n",
       "lm_proba_quant2_region1  9.988822e-01  \n",
       "lm_rank_mean_region1     3.164308e+03  \n",
       "lm_rank_var_region1      1.000000e+07  \n",
       "lm_rank_quant0_region1   1.000000e+00  \n",
       "lm_rank_quant1_region1   1.000000e+00  \n",
       "lm_rank_quant2_region1   1.000000e+00  \n",
       "lm_proba_mean_region2    6.648828e-01  \n",
       "lm_proba_var_region2     2.210399e-01  \n",
       "lm_proba_quant0_region2  2.483118e-01  \n",
       "lm_proba_quant1_region2  9.946652e-01  \n",
       "lm_proba_quant2_region2  9.990067e-01  \n",
       "lm_rank_mean_region2     7.503000e+03  \n",
       "lm_rank_var_region2      1.000000e+07  \n",
       "lm_rank_quant0_region2   1.000000e+00  \n",
       "lm_rank_quant1_region2   1.000000e+00  \n",
       "lm_rank_quant2_region2   1.382650e+04  \n",
       "lm_proba_mean_region3    9.116137e-01  \n",
       "lm_proba_var_region3     6.893618e-02  \n",
       "lm_proba_quant0_region3  9.958808e-01  \n",
       "lm_proba_quant1_region3  9.995817e-01  \n",
       "lm_proba_quant2_region3  9.999796e-01  \n",
       "lm_rank_mean_region3     1.189594e+03  \n",
       "lm_rank_var_region3      1.000000e+07  \n",
       "lm_rank_quant0_region3   1.000000e+00  \n",
       "lm_rank_quant1_region3   1.000000e+00  \n",
       "lm_rank_quant2_region3   1.000000e+00  "
      ]
     },
     "metadata": {},
     "output_type": "display_data"
    }
   ],
   "source": [
    "lm_masked_model_name = \"camembert-base\"\n",
    "print(\"--- loading lm\")\n",
    "print(f\"CamembertForMaskedLM: {lm_masked_model_name}\")\n",
    "lm_masked_model = CamembertForMaskedLM.from_pretrained(\n",
    "    lm_masked_model_name, return_dict=True\n",
    ").to(CUDA_DEVICE)\n",
    "lm_masked_tokenizer = CamembertTokenizer.from_pretrained(lm_masked_model_name)\n",
    "print(\"--- lm loaded\")\n",
    "\n",
    "text_list = [\n",
    "    \"Wikipedia is a multilingual free online encyclopedia written and maintained by a community of volunteers\",\n",
    "    \"Wik_prd9a is a mult8lingual fr5e o@line encyclapedia written and maintained by a community of volunteers\",\n",
    "    \"Wikipédia est une encyclopédie en ligne gratuite multilingue écrite et maintenue par une communauté de bénévoles\",\n",
    "    \"Wik_prd9a est t encyc7opédie en l@gne gratuite multilingue écrite et maintenue par une communauté de bénévoles\",\n",
    "]\n",
    "test_extraction_function(\n",
    "    \"lm_proba_and_rank\",\n",
    "    text_list=text_list,\n",
    "    lm_masked_model=lm_masked_model,\n",
    "    lm_masked_tokenizer=lm_masked_tokenizer,\n",
    "    device=CUDA_DEVICE,\n",
    ")"
   ]
  },
  {
   "attachments": {},
   "cell_type": "markdown",
   "metadata": {},
   "source": [
    "## Target Model properties"
   ]
  },
  {
   "cell_type": "code",
   "execution_count": 23,
   "metadata": {},
   "outputs": [
    {
     "name": "stdout",
     "output_type": "stream",
     "text": [
      "--- loading target model\n",
      "--- target model loaded\n"
     ]
    }
   ],
   "source": [
    "target_model_name = \"distilcamembert\"\n",
    "pretrained_model_name_or_path = \"baptiste-pasquier/distilcamembert-allocine\"\n",
    "num_labels = 2\n",
    "print(\"--- loading target model\")\n",
    "target_model = load_target_model(\n",
    "    model_name=target_model_name,\n",
    "    pretrained_model_name_or_path=pretrained_model_name_or_path,\n",
    "    num_labels=num_labels,\n",
    "    max_seq_len=None,\n",
    "    device=CUDA_DEVICE,\n",
    ")\n",
    "regions = [(0.0, 0.25), (0.25, 0.75), (0.75, 1.0), (0.0, 1.0)]\n",
    "print(\"--- target model loaded\")"
   ]
  },
  {
   "cell_type": "code",
   "execution_count": 24,
   "metadata": {},
   "outputs": [
    {
     "data": {
      "text/html": [
       "<b>Function: tm_posterior<b/>"
      ],
      "text/plain": [
       "<IPython.core.display.HTML object>"
      ]
     },
     "metadata": {},
     "output_type": "display_data"
    },
    {
     "name": "stdout",
     "output_type": "stream",
     "text": [
      "Text_list:\n",
      "    Il relève tout simplement du meilleur du cinéma français.\n",
      "    I_ rel@ve tyu3 s0m!le,ent du meilleur du cinéma français.\n",
      "    Il relève tout simplement du pire du cinéma français.\n",
      "    I_ rel@ve tyu3 s0m!le,ent du pire du cinéma français.\n"
     ]
    },
    {
     "data": {
      "text/html": [
       "<div>\n",
       "<style scoped>\n",
       "    .dataframe tbody tr th:only-of-type {\n",
       "        vertical-align: middle;\n",
       "    }\n",
       "\n",
       "    .dataframe tbody tr th {\n",
       "        vertical-align: top;\n",
       "    }\n",
       "\n",
       "    .dataframe thead th {\n",
       "        text-align: right;\n",
       "    }\n",
       "</style>\n",
       "<table border=\"1\" class=\"dataframe\">\n",
       "  <thead>\n",
       "    <tr style=\"text-align: right;\">\n",
       "      <th></th>\n",
       "      <th>0</th>\n",
       "      <th>1</th>\n",
       "      <th>2</th>\n",
       "      <th>3</th>\n",
       "    </tr>\n",
       "  </thead>\n",
       "  <tbody>\n",
       "    <tr>\n",
       "      <th>tm_output_0</th>\n",
       "      <td>0.001268</td>\n",
       "      <td>0.005454</td>\n",
       "      <td>0.999496</td>\n",
       "      <td>0.99368</td>\n",
       "    </tr>\n",
       "    <tr>\n",
       "      <th>tm_output_1</th>\n",
       "      <td>0.998732</td>\n",
       "      <td>0.994546</td>\n",
       "      <td>0.000504</td>\n",
       "      <td>0.00632</td>\n",
       "    </tr>\n",
       "  </tbody>\n",
       "</table>\n",
       "</div>"
      ],
      "text/plain": [
       "                    0         1         2        3\n",
       "tm_output_0  0.001268  0.005454  0.999496  0.99368\n",
       "tm_output_1  0.998732  0.994546  0.000504  0.00632"
      ]
     },
     "metadata": {},
     "output_type": "display_data"
    }
   ],
   "source": [
    "text_list = [\n",
    "    \"Il relève tout simplement du meilleur du cinéma français.\",\n",
    "    \"I_ rel@ve tyu3 s0m!le,ent du meilleur du cinéma français.\",\n",
    "    \"Il relève tout simplement du pire du cinéma français.\",\n",
    "    \"I_ rel@ve tyu3 s0m!le,ent du pire du cinéma français.\",\n",
    "]\n",
    "test_extraction_function(\n",
    "    \"tm_posterior\", text_list=text_list, target_model=target_model, device=CUDA_DEVICE\n",
    ")"
   ]
  },
  {
   "cell_type": "code",
   "execution_count": 25,
   "metadata": {},
   "outputs": [
    {
     "data": {
      "text/html": [
       "<b>Function: tm_gradient<b/>"
      ],
      "text/plain": [
       "<IPython.core.display.HTML object>"
      ]
     },
     "metadata": {},
     "output_type": "display_data"
    },
    {
     "name": "stdout",
     "output_type": "stream",
     "text": [
      "Text_list:\n",
      "    Il relève tout simplement du meilleur du cinéma français.\n",
      "    I_ rel@ve tyu3 s0m!le,ent du meilleur du cinéma français.\n",
      "    Il relève tout simplement du pire du cinéma français.\n",
      "    I_ rel@ve tyu3 s0m!le,ent du pire du cinéma français.\n"
     ]
    },
    {
     "data": {
      "text/html": [
       "<div>\n",
       "<style scoped>\n",
       "    .dataframe tbody tr th:only-of-type {\n",
       "        vertical-align: middle;\n",
       "    }\n",
       "\n",
       "    .dataframe tbody tr th {\n",
       "        vertical-align: top;\n",
       "    }\n",
       "\n",
       "    .dataframe thead th {\n",
       "        text-align: right;\n",
       "    }\n",
       "</style>\n",
       "<table border=\"1\" class=\"dataframe\">\n",
       "  <thead>\n",
       "    <tr style=\"text-align: right;\">\n",
       "      <th></th>\n",
       "      <th>0</th>\n",
       "      <th>1</th>\n",
       "      <th>2</th>\n",
       "      <th>3</th>\n",
       "    </tr>\n",
       "  </thead>\n",
       "  <tbody>\n",
       "    <tr>\n",
       "      <th>tm_gradient_mean_layer0_region0</th>\n",
       "      <td>-9.942255e-14</td>\n",
       "      <td>2.121823e-15</td>\n",
       "      <td>4.849881e-15</td>\n",
       "      <td>-9.457267e-14</td>\n",
       "    </tr>\n",
       "    <tr>\n",
       "      <th>tm_gradient_var_layer0_region0</th>\n",
       "      <td>1.633131e-06</td>\n",
       "      <td>3.848839e-07</td>\n",
       "      <td>1.040655e-06</td>\n",
       "      <td>5.418412e-06</td>\n",
       "    </tr>\n",
       "    <tr>\n",
       "      <th>tm_gradient_mean_layer1_region0</th>\n",
       "      <td>-6.039705e-12</td>\n",
       "      <td>-7.549632e-14</td>\n",
       "      <td>9.814521e-13</td>\n",
       "      <td>-1.207941e-12</td>\n",
       "    </tr>\n",
       "    <tr>\n",
       "      <th>tm_gradient_var_layer1_region0</th>\n",
       "      <td>1.016897e-04</td>\n",
       "      <td>2.396545e-05</td>\n",
       "      <td>6.479814e-05</td>\n",
       "      <td>3.373866e-04</td>\n",
       "    </tr>\n",
       "    <tr>\n",
       "      <th>tm_gradient_quant0_layer1_region0</th>\n",
       "      <td>0.000000e+00</td>\n",
       "      <td>0.000000e+00</td>\n",
       "      <td>0.000000e+00</td>\n",
       "      <td>0.000000e+00</td>\n",
       "    </tr>\n",
       "    <tr>\n",
       "      <th>...</th>\n",
       "      <td>...</td>\n",
       "      <td>...</td>\n",
       "      <td>...</td>\n",
       "      <td>...</td>\n",
       "    </tr>\n",
       "    <tr>\n",
       "      <th>tm_gradient_quant0_layer103_region3</th>\n",
       "      <td>-5.040066e-04</td>\n",
       "      <td>-1.720168e-03</td>\n",
       "      <td>-2.175319e-04</td>\n",
       "      <td>-1.810942e-03</td>\n",
       "    </tr>\n",
       "    <tr>\n",
       "      <th>tm_gradient_quant1_layer103_region3</th>\n",
       "      <td>-3.126388e-12</td>\n",
       "      <td>3.205969e-11</td>\n",
       "      <td>2.165734e-11</td>\n",
       "      <td>-6.821210e-12</td>\n",
       "    </tr>\n",
       "    <tr>\n",
       "      <th>tm_gradient_quant2_layer103_region3</th>\n",
       "      <td>5.040092e-04</td>\n",
       "      <td>1.720152e-03</td>\n",
       "      <td>2.175665e-04</td>\n",
       "      <td>1.810940e-03</td>\n",
       "    </tr>\n",
       "    <tr>\n",
       "      <th>tm_gradient_mean_layer104_region_3</th>\n",
       "      <td>6.693881e-09</td>\n",
       "      <td>-5.238689e-08</td>\n",
       "      <td>4.004687e-08</td>\n",
       "      <td>6.053597e-09</td>\n",
       "    </tr>\n",
       "    <tr>\n",
       "      <th>tm_gradient_var_layer104_region_3</th>\n",
       "      <td>3.216737e-06</td>\n",
       "      <td>5.948598e-05</td>\n",
       "      <td>5.080266e-07</td>\n",
       "      <td>7.989549e-05</td>\n",
       "    </tr>\n",
       "  </tbody>\n",
       "</table>\n",
       "<p>2076 rows × 4 columns</p>\n",
       "</div>"
      ],
      "text/plain": [
       "                                                0             1             2  \\\n",
       "tm_gradient_mean_layer0_region0     -9.942255e-14  2.121823e-15  4.849881e-15   \n",
       "tm_gradient_var_layer0_region0       1.633131e-06  3.848839e-07  1.040655e-06   \n",
       "tm_gradient_mean_layer1_region0     -6.039705e-12 -7.549632e-14  9.814521e-13   \n",
       "tm_gradient_var_layer1_region0       1.016897e-04  2.396545e-05  6.479814e-05   \n",
       "tm_gradient_quant0_layer1_region0    0.000000e+00  0.000000e+00  0.000000e+00   \n",
       "...                                           ...           ...           ...   \n",
       "tm_gradient_quant0_layer103_region3 -5.040066e-04 -1.720168e-03 -2.175319e-04   \n",
       "tm_gradient_quant1_layer103_region3 -3.126388e-12  3.205969e-11  2.165734e-11   \n",
       "tm_gradient_quant2_layer103_region3  5.040092e-04  1.720152e-03  2.175665e-04   \n",
       "tm_gradient_mean_layer104_region_3   6.693881e-09 -5.238689e-08  4.004687e-08   \n",
       "tm_gradient_var_layer104_region_3    3.216737e-06  5.948598e-05  5.080266e-07   \n",
       "\n",
       "                                                3  \n",
       "tm_gradient_mean_layer0_region0     -9.457267e-14  \n",
       "tm_gradient_var_layer0_region0       5.418412e-06  \n",
       "tm_gradient_mean_layer1_region0     -1.207941e-12  \n",
       "tm_gradient_var_layer1_region0       3.373866e-04  \n",
       "tm_gradient_quant0_layer1_region0    0.000000e+00  \n",
       "...                                           ...  \n",
       "tm_gradient_quant0_layer103_region3 -1.810942e-03  \n",
       "tm_gradient_quant1_layer103_region3 -6.821210e-12  \n",
       "tm_gradient_quant2_layer103_region3  1.810940e-03  \n",
       "tm_gradient_mean_layer104_region_3   6.053597e-09  \n",
       "tm_gradient_var_layer104_region_3    7.989549e-05  \n",
       "\n",
       "[2076 rows x 4 columns]"
      ]
     },
     "metadata": {},
     "output_type": "display_data"
    }
   ],
   "source": [
    "labels = [1, 1, 0, 0]\n",
    "test_extraction_function(\n",
    "    \"tm_gradient\",\n",
    "    text_list=text_list,\n",
    "    labels=pd.Series(labels),\n",
    "    target_model=target_model,\n",
    "    device=CUDA_DEVICE,\n",
    ")"
   ]
  },
  {
   "cell_type": "code",
   "execution_count": 26,
   "metadata": {},
   "outputs": [
    {
     "data": {
      "text/html": [
       "<b>Function: tm_activation<b/>"
      ],
      "text/plain": [
       "<IPython.core.display.HTML object>"
      ]
     },
     "metadata": {},
     "output_type": "display_data"
    },
    {
     "name": "stdout",
     "output_type": "stream",
     "text": [
      "Text_list:\n",
      "    Il relève tout simplement du meilleur du cinéma français.\n",
      "    I_ rel@ve tyu3 s0m!le,ent du meilleur du cinéma français.\n",
      "    Il relève tout simplement du pire du cinéma français.\n",
      "    I_ rel@ve tyu3 s0m!le,ent du pire du cinéma français.\n"
     ]
    },
    {
     "data": {
      "text/html": [
       "<div>\n",
       "<style scoped>\n",
       "    .dataframe tbody tr th:only-of-type {\n",
       "        vertical-align: middle;\n",
       "    }\n",
       "\n",
       "    .dataframe tbody tr th {\n",
       "        vertical-align: top;\n",
       "    }\n",
       "\n",
       "    .dataframe thead th {\n",
       "        text-align: right;\n",
       "    }\n",
       "</style>\n",
       "<table border=\"1\" class=\"dataframe\">\n",
       "  <thead>\n",
       "    <tr style=\"text-align: right;\">\n",
       "      <th></th>\n",
       "      <th>0</th>\n",
       "      <th>1</th>\n",
       "      <th>2</th>\n",
       "      <th>3</th>\n",
       "    </tr>\n",
       "  </thead>\n",
       "  <tbody>\n",
       "    <tr>\n",
       "      <th>tm_activation_mean_layer0_region0</th>\n",
       "      <td>-0.008056</td>\n",
       "      <td>0.004521</td>\n",
       "      <td>-0.008056</td>\n",
       "      <td>0.004521</td>\n",
       "    </tr>\n",
       "    <tr>\n",
       "      <th>tm_activation_var_layer0_region0</th>\n",
       "      <td>0.030968</td>\n",
       "      <td>0.020824</td>\n",
       "      <td>0.030968</td>\n",
       "      <td>0.020824</td>\n",
       "    </tr>\n",
       "    <tr>\n",
       "      <th>tm_activation_quant0_layer0_region0</th>\n",
       "      <td>-0.051361</td>\n",
       "      <td>-0.045224</td>\n",
       "      <td>-0.051361</td>\n",
       "      <td>-0.045224</td>\n",
       "    </tr>\n",
       "    <tr>\n",
       "      <th>tm_activation_quant1_layer0_region0</th>\n",
       "      <td>0.002041</td>\n",
       "      <td>0.009156</td>\n",
       "      <td>0.002041</td>\n",
       "      <td>0.009156</td>\n",
       "    </tr>\n",
       "    <tr>\n",
       "      <th>tm_activation_quant2_layer0_region0</th>\n",
       "      <td>0.052879</td>\n",
       "      <td>0.062488</td>\n",
       "      <td>0.052879</td>\n",
       "      <td>0.062488</td>\n",
       "    </tr>\n",
       "    <tr>\n",
       "      <th>...</th>\n",
       "      <td>...</td>\n",
       "      <td>...</td>\n",
       "      <td>...</td>\n",
       "      <td>...</td>\n",
       "    </tr>\n",
       "    <tr>\n",
       "      <th>tm_activation_quant0_layer79_region3</th>\n",
       "      <td>-0.384787</td>\n",
       "      <td>-0.289234</td>\n",
       "      <td>-0.440859</td>\n",
       "      <td>-0.299097</td>\n",
       "    </tr>\n",
       "    <tr>\n",
       "      <th>tm_activation_quant1_layer79_region3</th>\n",
       "      <td>0.032642</td>\n",
       "      <td>0.046557</td>\n",
       "      <td>-0.019357</td>\n",
       "      <td>0.011163</td>\n",
       "    </tr>\n",
       "    <tr>\n",
       "      <th>tm_activation_quant2_layer79_region3</th>\n",
       "      <td>0.404022</td>\n",
       "      <td>0.331211</td>\n",
       "      <td>0.426327</td>\n",
       "      <td>0.275700</td>\n",
       "    </tr>\n",
       "    <tr>\n",
       "      <th>tm_activation_mean_layer80_region3</th>\n",
       "      <td>-0.229810</td>\n",
       "      <td>-0.157200</td>\n",
       "      <td>0.223046</td>\n",
       "      <td>0.140201</td>\n",
       "    </tr>\n",
       "    <tr>\n",
       "      <th>tm_activation_var_layer80</th>\n",
       "      <td>11.118460</td>\n",
       "      <td>6.775608</td>\n",
       "      <td>14.410968</td>\n",
       "      <td>6.394899</td>\n",
       "    </tr>\n",
       "  </tbody>\n",
       "</table>\n",
       "<p>1608 rows × 4 columns</p>\n",
       "</div>"
      ],
      "text/plain": [
       "                                              0         1          2         3\n",
       "tm_activation_mean_layer0_region0     -0.008056  0.004521  -0.008056  0.004521\n",
       "tm_activation_var_layer0_region0       0.030968  0.020824   0.030968  0.020824\n",
       "tm_activation_quant0_layer0_region0   -0.051361 -0.045224  -0.051361 -0.045224\n",
       "tm_activation_quant1_layer0_region0    0.002041  0.009156   0.002041  0.009156\n",
       "tm_activation_quant2_layer0_region0    0.052879  0.062488   0.052879  0.062488\n",
       "...                                         ...       ...        ...       ...\n",
       "tm_activation_quant0_layer79_region3  -0.384787 -0.289234  -0.440859 -0.299097\n",
       "tm_activation_quant1_layer79_region3   0.032642  0.046557  -0.019357  0.011163\n",
       "tm_activation_quant2_layer79_region3   0.404022  0.331211   0.426327  0.275700\n",
       "tm_activation_mean_layer80_region3    -0.229810 -0.157200   0.223046  0.140201\n",
       "tm_activation_var_layer80             11.118460  6.775608  14.410968  6.394899\n",
       "\n",
       "[1608 rows x 4 columns]"
      ]
     },
     "metadata": {},
     "output_type": "display_data"
    }
   ],
   "source": [
    "test_extraction_function(\n",
    "    \"tm_activation\", text_list=text_list, target_model=target_model, device=CUDA_DEVICE\n",
    ")"
   ]
  },
  {
   "cell_type": "code",
   "execution_count": 27,
   "metadata": {},
   "outputs": [
    {
     "name": "stderr",
     "output_type": "stream",
     "text": [
      "c:\\Users\\Baptiste\\AppData\\Local\\pypoetry\\Cache\\virtualenvs\\nlp-adversarial-attacks-ghBt6cj_-py3.10\\lib\\site-packages\\torch\\nn\\modules\\module.py:1117: UserWarning: Using a non-full backward hook when the forward contains multiple autograd Nodes is deprecated and will be removed in future versions. This hook will be missing some grad_input. Please use register_full_backward_hook to get the documented behavior.\n",
      "  warnings.warn(\"Using a non-full backward hook when the forward contains multiple autograd Nodes \"\n"
     ]
    },
    {
     "data": {
      "text/html": [
       "<b>Function: tm_saliency<b/>"
      ],
      "text/plain": [
       "<IPython.core.display.HTML object>"
      ]
     },
     "metadata": {},
     "output_type": "display_data"
    },
    {
     "name": "stdout",
     "output_type": "stream",
     "text": [
      "Text_list:\n",
      "    Il relève tout simplement du meilleur du cinéma français.\n",
      "    I_ rel@ve tyu3 s0m!le,ent du meilleur du cinéma français.\n",
      "    Il relève tout simplement du pire du cinéma français.\n",
      "    I_ rel@ve tyu3 s0m!le,ent du pire du cinéma français.\n"
     ]
    },
    {
     "data": {
      "text/html": [
       "<div>\n",
       "<style scoped>\n",
       "    .dataframe tbody tr th:only-of-type {\n",
       "        vertical-align: middle;\n",
       "    }\n",
       "\n",
       "    .dataframe tbody tr th {\n",
       "        vertical-align: top;\n",
       "    }\n",
       "\n",
       "    .dataframe thead th {\n",
       "        text-align: right;\n",
       "    }\n",
       "</style>\n",
       "<table border=\"1\" class=\"dataframe\">\n",
       "  <thead>\n",
       "    <tr style=\"text-align: right;\">\n",
       "      <th></th>\n",
       "      <th>0</th>\n",
       "      <th>1</th>\n",
       "      <th>2</th>\n",
       "      <th>3</th>\n",
       "    </tr>\n",
       "  </thead>\n",
       "  <tbody>\n",
       "    <tr>\n",
       "      <th>tm_simple_gradient_saliency_mean</th>\n",
       "      <td>0.083333</td>\n",
       "      <td>0.041667</td>\n",
       "      <td>0.083333</td>\n",
       "      <td>0.041667</td>\n",
       "    </tr>\n",
       "    <tr>\n",
       "      <th>tm_simple_gradient_saliency_var</th>\n",
       "      <td>0.007509</td>\n",
       "      <td>0.002019</td>\n",
       "      <td>0.003834</td>\n",
       "      <td>0.000900</td>\n",
       "    </tr>\n",
       "    <tr>\n",
       "      <th>tm_simple_gradient_saliency_quant0</th>\n",
       "      <td>0.042974</td>\n",
       "      <td>0.011701</td>\n",
       "      <td>0.034386</td>\n",
       "      <td>0.021037</td>\n",
       "    </tr>\n",
       "    <tr>\n",
       "      <th>tm_simple_gradient_saliency_quant1</th>\n",
       "      <td>0.062291</td>\n",
       "      <td>0.026884</td>\n",
       "      <td>0.079129</td>\n",
       "      <td>0.037450</td>\n",
       "    </tr>\n",
       "    <tr>\n",
       "      <th>tm_simple_gradient_saliency_quant2</th>\n",
       "      <td>0.089287</td>\n",
       "      <td>0.049714</td>\n",
       "      <td>0.128773</td>\n",
       "      <td>0.059414</td>\n",
       "    </tr>\n",
       "  </tbody>\n",
       "</table>\n",
       "</div>"
      ],
      "text/plain": [
       "                                           0         1         2         3\n",
       "tm_simple_gradient_saliency_mean    0.083333  0.041667  0.083333  0.041667\n",
       "tm_simple_gradient_saliency_var     0.007509  0.002019  0.003834  0.000900\n",
       "tm_simple_gradient_saliency_quant0  0.042974  0.011701  0.034386  0.021037\n",
       "tm_simple_gradient_saliency_quant1  0.062291  0.026884  0.079129  0.037450\n",
       "tm_simple_gradient_saliency_quant2  0.089287  0.049714  0.128773  0.059414"
      ]
     },
     "metadata": {},
     "output_type": "display_data"
    }
   ],
   "source": [
    "test_extraction_function(\n",
    "    \"tm_saliency\",\n",
    "    text_list=text_list,\n",
    "    labels=pd.Series(labels),\n",
    "    target_model=target_model,\n",
    "    device=CUDA_DEVICE,\n",
    ")"
   ]
  },
  {
   "cell_type": "code",
   "execution_count": null,
   "metadata": {},
   "outputs": [],
   "source": []
  }
 ],
 "metadata": {
  "kernelspec": {
   "display_name": "nlp-adversarial-attacks-ghBt6cj_-py3.10",
   "language": "python",
   "name": "python3"
  },
  "language_info": {
   "codemirror_mode": {
    "name": "ipython",
    "version": 3
   },
   "file_extension": ".py",
   "mimetype": "text/x-python",
   "name": "python",
   "nbconvert_exporter": "python",
   "pygments_lexer": "ipython3",
   "version": "3.10.9"
  },
  "orig_nbformat": 4
 },
 "nbformat": 4,
 "nbformat_minor": 2
}
