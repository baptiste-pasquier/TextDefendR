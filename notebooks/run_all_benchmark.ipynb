{
 "cells": [
  {
   "attachments": {},
   "cell_type": "markdown",
   "metadata": {},
   "source": [
    "# Run all TCAB benchmark"
   ]
  },
  {
   "cell_type": "code",
   "execution_count": null,
   "metadata": {},
   "outputs": [],
   "source": [
    "%load_ext autoreload\n",
    "%autoreload 2"
   ]
  },
  {
   "cell_type": "code",
   "execution_count": null,
   "metadata": {},
   "outputs": [],
   "source": [
    "from functools import reduce\n",
    "from itertools import product\n",
    "\n",
    "from scripts import (\n",
    "    distribute_experiments,\n",
    "    generate_catted_dataset,\n",
    "    make_experiment,\n",
    "    make_official_dataset_splits,\n",
    "    run_experiment,\n",
    ")\n",
    "\n",
    "# from scripts import encode_main"
   ]
  },
  {
   "cell_type": "code",
   "execution_count": null,
   "metadata": {},
   "outputs": [],
   "source": [
    "def process_args(args_grid):\n",
    "    liste1 = [dict(zip(args_grid.keys(), v)) for v in product(*args_grid.values())]\n",
    "    liste2 = [list(reduce(lambda x, y: x + y, dico.items())) for dico in liste1]\n",
    "    liste3 = [list(filter(None, liste)) for liste in liste2]\n",
    "\n",
    "    print(f\"Number of parameters combinations: {len(liste3)}\")\n",
    "    for elem in liste3:\n",
    "        print(elem)\n",
    "\n",
    "    return liste3"
   ]
  },
  {
   "cell_type": "code",
   "execution_count": null,
   "metadata": {},
   "outputs": [],
   "source": [
    "def call_main_args(main, processed_args_grid):\n",
    "    for args in processed_args_grid:\n",
    "        print(f\"\\n### Running main with {args}\\n\")\n",
    "        main(args)"
   ]
  },
  {
   "attachments": {},
   "cell_type": "markdown",
   "metadata": {},
   "source": [
    "## 1. scripts/generate_catted_dataset.py"
   ]
  },
  {
   "cell_type": "code",
   "execution_count": null,
   "metadata": {},
   "outputs": [],
   "source": [
    "generate_catted_dataset.main()"
   ]
  },
  {
   "attachments": {},
   "cell_type": "markdown",
   "metadata": {},
   "source": [
    "## 2. scripts/encode_main.py"
   ]
  },
  {
   "cell_type": "code",
   "execution_count": null,
   "metadata": {},
   "outputs": [],
   "source": [
    "# encode_main.main()"
   ]
  },
  {
   "attachments": {},
   "cell_type": "markdown",
   "metadata": {},
   "source": [
    "## 3. scripts/make_official_dataset_splits.py"
   ]
  },
  {
   "cell_type": "code",
   "execution_count": null,
   "metadata": {},
   "outputs": [],
   "source": [
    "make_official_dataset_splits.main()"
   ]
  },
  {
   "attachments": {},
   "cell_type": "markdown",
   "metadata": {},
   "source": [
    "## 4. scripts/distribute_experiments.py"
   ]
  },
  {
   "cell_type": "code",
   "execution_count": null,
   "metadata": {},
   "outputs": [],
   "source": [
    "args_grid = {\n",
    "    \"--experiment_setting\": [\"clean_vs_all\", \"multiclass_with_clean\"],\n",
    "}\n",
    "args_grid = process_args(args_grid)"
   ]
  },
  {
   "cell_type": "code",
   "execution_count": null,
   "metadata": {},
   "outputs": [],
   "source": [
    "call_main_args(distribute_experiments.main, args_grid)"
   ]
  },
  {
   "attachments": {},
   "cell_type": "markdown",
   "metadata": {},
   "source": [
    "## 5. scripts/make_experiments.py"
   ]
  },
  {
   "cell_type": "code",
   "execution_count": null,
   "metadata": {},
   "outputs": [],
   "source": [
    "experiment_list = [\"clean_vs_all\", \"multiclass_with_clean\"]\n",
    "experiment_dir_list = [\n",
    "    \"data_tcab/detection-experiments/allocine/distilcamembert/\" + exp\n",
    "    for exp in experiment_list\n",
    "]\n",
    "args_grid = {\"--experiment_dir\": experiment_dir_list}\n",
    "args_grid = process_args(args_grid)"
   ]
  },
  {
   "cell_type": "code",
   "execution_count": null,
   "metadata": {},
   "outputs": [],
   "source": [
    "call_main_args(make_experiment.main, args_grid)"
   ]
  },
  {
   "attachments": {},
   "cell_type": "markdown",
   "metadata": {},
   "source": [
    "## 6. scripts/run_experiment.py"
   ]
  },
  {
   "cell_type": "code",
   "execution_count": null,
   "metadata": {},
   "outputs": [],
   "source": [
    "args_grid = {\n",
    "    \"--experiment_dir\": experiment_dir_list,\n",
    "    \"--feature_setting\": [\"bert\", \"bert+tp\", \"bert+tp+lm\", \"all\"],\n",
    "    \"--model\": [\"LR\"],\n",
    "    \"--model_n_jobs\": [\"12\"],\n",
    "    \"--disable_tune\": [\"\"],\n",
    "}\n",
    "args_grid = process_args(args_grid)"
   ]
  },
  {
   "cell_type": "code",
   "execution_count": null,
   "metadata": {},
   "outputs": [],
   "source": [
    "call_main_args(run_experiment.main, args_grid)"
   ]
  },
  {
   "cell_type": "code",
   "execution_count": null,
   "metadata": {},
   "outputs": [],
   "source": []
  }
 ],
 "metadata": {
  "kernelspec": {
   "display_name": "nlp-adversarial-attacks-ghBt6cj_-py3.10",
   "language": "python",
   "name": "python3"
  },
  "language_info": {
   "codemirror_mode": {
    "name": "ipython",
    "version": 3
   },
   "file_extension": ".py",
   "mimetype": "text/x-python",
   "name": "python",
   "nbconvert_exporter": "python",
   "pygments_lexer": "ipython3",
   "version": "3.10.9"
  },
  "orig_nbformat": 4
 },
 "nbformat": 4,
 "nbformat_minor": 2
}
